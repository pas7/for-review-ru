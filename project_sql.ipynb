{
 "cells": [
  {
   "cell_type": "markdown",
   "id": "a0bbaaca",
   "metadata": {},
   "source": [
    "# Project for Python and Database courses"
   ]
  },
  {
   "cell_type": "markdown",
   "id": "a40a2628",
   "metadata": {},
   "source": [
    "## Imports\n",
    "\n",
    "**Note**: The file `utils_project.py` must be in the same folder."
   ]
  },
  {
   "cell_type": "code",
   "execution_count": 1,
   "id": "23ab1e1b",
   "metadata": {},
   "outputs": [
    {
     "data": {
      "text/html": [
       "\n",
       "    <style>\n",
       "      .container {\n",
       "          width: 100% !important;\n",
       "          padding-left: 0 !important;\n",
       "          padding-right: 0 !important;\n",
       "      }\n",
       "    </style>\n",
       "    "
      ],
      "text/plain": [
       "<IPython.core.display.HTML object>"
      ]
     },
     "metadata": {},
     "output_type": "display_data"
    }
   ],
   "source": [
    "from getpass import getpass\n",
    "\n",
    "from utils_project import MySql, main_dialog, Language, custom\n",
    "custom()"
   ]
  },
  {
   "cell_type": "markdown",
   "id": "48755a5d",
   "metadata": {},
   "source": [
    "**Note**: To translate the movie description `plot` into Russian or German, specify `Language.RU` or `Language.DE` respectively. The translation will appear in a pop-up window when you **hover over** the left column of the movie table."
   ]
  },
  {
   "cell_type": "code",
   "execution_count": 2,
   "id": "2b49ba7c",
   "metadata": {},
   "outputs": [],
   "source": [
    "TRANSLATE = Language.RU #  RU / DE / NONE"
   ]
  },
  {
   "cell_type": "code",
   "execution_count": 3,
   "id": "5c6582fb",
   "metadata": {},
   "outputs": [
    {
     "name": "stdout",
     "output_type": "stream",
     "text": [
      "Enter password: ········\n"
     ]
    }
   ],
   "source": [
    "config = {\n",
    "    'host': '127.0.0.1',\n",
    "    'user': 'root',\n",
    "    'database': 'movies'\n",
    "}\n",
    "\n",
    "config['password'] = getpass(\"Enter password: \")\n"
   ]
  },
  {
   "cell_type": "code",
   "execution_count": 4,
   "id": "1e177583",
   "metadata": {},
   "outputs": [
    {
     "name": "stdout",
     "output_type": "stream",
     "text": [
      "OK\n"
     ]
    }
   ],
   "source": [
    "my_sql = MySql(config, TRANSLATE.value)"
   ]
  },
  {
   "cell_type": "markdown",
   "id": "fd577306",
   "metadata": {},
   "source": [
    "## Functionality\n",
    "\n",
    "The program provides the following features:\n",
    "- `1` - search for the first 10 films by the specified keyword\n",
    "- `2` - search for the first 10 films by the specified genre and year of release of the film\n",
    "- `3` - displays the 10 most popular keywords searched for\n",
    "- `9` - exit the program\n",
    "\n",
    "The selection of functionality is carried out by entering the appropriate commands: `1`, `2`, `3` or `9`\n"
   ]
  },
  {
   "cell_type": "code",
   "execution_count": null,
   "id": "97aacb0d",
   "metadata": {},
   "outputs": [
    {
     "name": "stdout",
     "output_type": "stream",
     "text": [
      "Enter 1, 2, 3 (or 9 for exit): 1\n",
      "Enter a keyword or 0: Tom Cruise\n",
      "...wait for the translation\n"
     ]
    },
    {
     "data": {
      "text/html": [
       "\n",
       "<style>\n",
       "  table {\n",
       "    width: 100%;\n",
       "    border-collapse: collapse;\n",
       "    table-layout: fixed; /* Устанавливаем фиксированную ширину таблицы */\n",
       "  }\n",
       "  th, td {\n",
       "    border: 1px solid #ddd;\n",
       "    padding: 8px;\n",
       "    text-align: left !important; /* Выравниваем текст в ячейках влево */\n",
       "    word-wrap: break-word; /* Разрешаем перенос слов */\n",
       "  }\n",
       "  th {\n",
       "    padding-top: 12px;\n",
       "    padding-bottom: 12px;\n",
       "    background-color: #f2f2f2;\n",
       "  }\n",
       "  .narrow {\n",
       "    width: 50px; /* Устанавливаем начальную ширину */\n",
       "    white-space: normal; /* Позволяем перенос текста */\n",
       "    word-break: break-word; /* Перенос слов при необходимости */\n",
       "  }\n",
       "  .narrow_mid {\n",
       "    width: 180px; /* Устанавливаем начальную ширину */\n",
       "    white-space: normal; /* Позволяем перенос текста */\n",
       "    word-break: break-word; /* Перенос слов при необходимости */\n",
       "  }\n",
       "</style>\n",
       "<style>\n",
       "span.hoverable {\n",
       "  position: relative;\n",
       "  cursor: pointer;\n",
       "}\n",
       "span.hoverable::after {\n",
       "  content: attr(data-fulltext);\n",
       "  position: absolute;\n",
       "  white-space: normal;\n",
       "  background: #333;\n",
       "  color: #fff;\n",
       "  padding: 5px;\n",
       "  border-radius: 5px;\n",
       "  top: 1.5em;\n",
       "  left: 0;\n",
       "  text-align: left;\n",
       "  z-index: 1000;\n",
       "  opacity: 0;\n",
       "  transition: opacity 0.3s;\n",
       "  pointer-events: none;\n",
       "  width: 500px; /* Установим фиксированную ширину всплывающего блока */\n",
       "  word-wrap: break-word;\n",
       "}\n",
       "span.hoverable:hover::after {\n",
       "  opacity: 1;\n",
       "}\n",
       "</style>\n",
       "<table>\n",
       "  <tr>\n",
       "    <th class=\"narrow\">#</th> <!-- Добавляем узкую колонку для номера по порядку -->\n",
       "    <th class=\"narrow\">Rating</th>\n",
       "    <th class=\"narrow\">Year</th>\n",
       "    <th class=\"narrow_mid\">Title</th>\n",
       "    <th class=\"narrow_mid\">Genres</th>\n",
       "    <th>Cast</th>\n",
       "    <th class=\"narrow_mid\">Directors</th>\n",
       "  </tr>\n",
       "\n",
       "            <tr>\n",
       "                <td class=\"narrow\">1</td> <!-- Добавляем номер по порядку -->\n",
       "                <td class=\"narrow\">7.9</td>\n",
       "                <td class=\"narrow\">2014</td>\n",
       "                <td class=\"narrow_mid\">Edge of Tomorrow</td>\n",
       "                <td class=\"narrow_mid\">Adventure, Sci-Fi, Action</td>\n",
       "                <td><span style=\"color: red;\">Tom Cruise</span>, Emily Blunt, Brendan Gleeson, Bill Paxton</td>\n",
       "                <td class=\"narrow_mid\">Doug Liman</td>\n",
       "            </tr>\n",
       "            \n",
       "            <tr>\n",
       "                <td>\n",
       "                    <span class=\"hoverable\" data-fulltext=\"Военный офицер вводится в чужую войну против инопланетного врага, который может сбросить день и знать будущее. Когда этот офицер включен с той же властью, он объединяется с воином спецназа, чтобы попытаться положить конец войне.\" style=\"color: #aaa;\">ru</span>\n",
       "                </td>\n",
       "                <td colspan=\"6\">\n",
       "                    A military officer is brought into an alien war against an extraterrestrial enemy who can reset the day and know the future. When this officer is enabled with the same power, he teams up with a Special Forces warrior to try and end the war.\n",
       "                </td>\n",
       "            </tr>\n",
       "            \n",
       "            <tr>\n",
       "                <td class=\"narrow\">2</td> <!-- Добавляем номер по порядку -->\n",
       "                <td class=\"narrow\">7.4</td>\n",
       "                <td class=\"narrow\">2011</td>\n",
       "                <td class=\"narrow_mid\">Mission: Impossible - Ghost Protocol</td>\n",
       "                <td class=\"narrow_mid\">Adventure, Thriller, Action</td>\n",
       "                <td><span style=\"color: red;\">Tom Cruise</span>, Paula Patton, Simon Pegg, Jeremy Renner</td>\n",
       "                <td class=\"narrow_mid\">Brad Bird</td>\n",
       "            </tr>\n",
       "            \n",
       "            <tr>\n",
       "                <td>\n",
       "                    <span class=\"hoverable\" data-fulltext=\"МВФ закрывается, когда он участвует в бомбардировке Кремля, заставляя Итана Ханта и его новой команды, чтобы побудить мошенников, чтобы очистить имя своей организации.\" style=\"color: #aaa;\">ru</span>\n",
       "                </td>\n",
       "                <td colspan=\"6\">\n",
       "                    The IMF is shut down when it's implicated in the bombing of the Kremlin, causing Ethan Hunt and his new team to go rogue to clear their organization's name.\n",
       "                </td>\n",
       "            </tr>\n",
       "            \n",
       "            <tr>\n",
       "                <td class=\"narrow\">3</td> <!-- Добавляем номер по порядку -->\n",
       "                <td class=\"narrow\">7.1</td>\n",
       "                <td class=\"narrow\">2008</td>\n",
       "                <td class=\"narrow_mid\">Valkyrie</td>\n",
       "                <td class=\"narrow_mid\">Drama, Thriller, War</td>\n",
       "                <td><span style=\"color: red;\">Tom Cruise</span>, Kenneth Branagh, Bill Nighy, Tom Wilkinson</td>\n",
       "                <td class=\"narrow_mid\">Bryan Singer</td>\n",
       "            </tr>\n",
       "            \n",
       "            <tr>\n",
       "                <td>\n",
       "                    <span class=\"hoverable\" data-fulltext=\"Драматизация заговора об убийстве и политическом перевороте от 20 июля отчаявшихся офицеров немецкой армии с отчаянием во время Второй мировой войны.\" style=\"color: #aaa;\">ru</span>\n",
       "                </td>\n",
       "                <td colspan=\"6\">\n",
       "                    A dramatization of the 20 July assassination and political coup plot by desperate renegade German Army officers against Hitler during World War II.\n",
       "                </td>\n",
       "            </tr>\n",
       "            \n",
       "            <tr>\n",
       "                <td class=\"narrow\">4</td> <!-- Добавляем номер по порядку -->\n",
       "                <td class=\"narrow\">7.0</td>\n",
       "                <td class=\"narrow\">2012</td>\n",
       "                <td class=\"narrow_mid\">Jack Reacher</td>\n",
       "                <td class=\"narrow_mid\">Crime, Mystery, Action</td>\n",
       "                <td><span style=\"color: red;\">Tom Cruise</span>, Rosamund Pike, Richard Jenkins, David Oyelowo</td>\n",
       "                <td class=\"narrow_mid\">Christopher McQuarrie</td>\n",
       "            </tr>\n",
       "            \n",
       "            <tr>\n",
       "                <td>\n",
       "                    <span class=\"hoverable\" data-fulltext=\"Следователь по расследованию убийств углубляется в дело с участием обученного военного снайпера, который застрелил пять случайных жертв.\" style=\"color: #aaa;\">ru</span>\n",
       "                </td>\n",
       "                <td colspan=\"6\">\n",
       "                    A homicide investigator digs deeper into a case involving a trained military sniper who shot five random victims.\n",
       "                </td>\n",
       "            </tr>\n",
       "            \n",
       "            <tr>\n",
       "                <td class=\"narrow\">5</td> <!-- Добавляем номер по порядку -->\n",
       "                <td class=\"narrow\">7.0</td>\n",
       "                <td class=\"narrow\">2013</td>\n",
       "                <td class=\"narrow_mid\">Oblivion</td>\n",
       "                <td class=\"narrow_mid\">Mystery, Adventure, Action</td>\n",
       "                <td><span style=\"color: red;\">Tom Cruise</span>, Morgan Freeman, Olga Kurylenko, Andrea Riseborough</td>\n",
       "                <td class=\"narrow_mid\">Joseph Kosinski</td>\n",
       "            </tr>\n",
       "            \n",
       "            <tr>\n",
       "                <td>\n",
       "                    <span class=\"hoverable\" data-fulltext=\"Ветеран, назначенный для извлечения оставшихся ресурсов Земли, начинает сомневаться в том, что он знает о своей миссии и о себе.\" style=\"color: #aaa;\">ru</span>\n",
       "                </td>\n",
       "                <td colspan=\"6\">\n",
       "                    A veteran assigned to extract Earth's remaining resources begins to question what he knows about his mission and himself.\n",
       "                </td>\n",
       "            </tr>\n",
       "            \n",
       "            <tr>\n",
       "                <td class=\"narrow\">6</td> <!-- Добавляем номер по порядку -->\n",
       "                <td class=\"narrow\">6.3</td>\n",
       "                <td class=\"narrow\">2010</td>\n",
       "                <td class=\"narrow_mid\">Knight and Day</td>\n",
       "                <td class=\"narrow_mid\">Comedy, Romance, Action</td>\n",
       "                <td><span style=\"color: red;\">Tom Cruise</span>, Cameron Diaz, Peter Sarsgaard, Jordi Mollè</td>\n",
       "                <td class=\"narrow_mid\">James Mangold</td>\n",
       "            </tr>\n",
       "            \n",
       "            <tr>\n",
       "                <td>\n",
       "                    <span class=\"hoverable\" data-fulltext=\"Молодая женщина смешивается с опальным шпионом, который пытается очистить свое имя.\" style=\"color: #aaa;\">ru</span>\n",
       "                </td>\n",
       "                <td colspan=\"6\">\n",
       "                    A young woman gets mixed up with a disgraced spy who is trying to clear his name.\n",
       "                </td>\n",
       "            </tr>\n",
       "            \n",
       "            <tr>\n",
       "                <td class=\"narrow\">7</td> <!-- Добавляем номер по порядку -->\n",
       "                <td class=\"narrow\">6.2</td>\n",
       "                <td class=\"narrow\">2007</td>\n",
       "                <td class=\"narrow_mid\">Lions for Lambs</td>\n",
       "                <td class=\"narrow_mid\">Drama, Thriller, War</td>\n",
       "                <td>Robert Redford, Meryl Streep, <span style=\"color: red;\">Tom Cruise</span>, Michael Peèa</td>\n",
       "                <td class=\"narrow_mid\">Robert Redford</td>\n",
       "            </tr>\n",
       "            \n",
       "            <tr>\n",
       "                <td>\n",
       "                    <span class=\"hoverable\" data-fulltext=\"Травмы, полученные двумя армейскими рейнджерами, стоящими за вражескими линиями в Афганистане, вызвали последовательность событий с участием конгрессмена, журналиста и профессора.\" style=\"color: #aaa;\">ru</span>\n",
       "                </td>\n",
       "                <td colspan=\"6\">\n",
       "                    Injuries sustained by two Army rangers behind enemy lines in Afghanistan set off a sequence of events involving a congressman, a journalist and a professor.\n",
       "                </td>\n",
       "            </tr>\n",
       "            </table>"
      ],
      "text/plain": [
       "<IPython.core.display.HTML object>"
      ]
     },
     "metadata": {},
     "output_type": "display_data"
    }
   ],
   "source": [
    "main_dialog(my_sql)"
   ]
  },
  {
   "cell_type": "code",
   "execution_count": null,
   "id": "7904ea93",
   "metadata": {},
   "outputs": [],
   "source": []
  }
 ],
 "metadata": {
  "kernelspec": {
   "display_name": "Python 3 (ipykernel)",
   "language": "python",
   "name": "python3"
  },
  "language_info": {
   "codemirror_mode": {
    "name": "ipython",
    "version": 3
   },
   "file_extension": ".py",
   "mimetype": "text/x-python",
   "name": "python",
   "nbconvert_exporter": "python",
   "pygments_lexer": "ipython3",
   "version": "3.10.9"
  }
 },
 "nbformat": 4,
 "nbformat_minor": 5
}
