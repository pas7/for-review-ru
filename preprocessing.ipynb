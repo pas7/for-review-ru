{
 "cells": [
  {
   "cell_type": "markdown",
   "id": "9deeb379",
   "metadata": {},
   "source": [
    "### Описание концепции\n",
    "\n",
    "Вы - аналитик данных в крупной компании и получили новый проект от клиента - онлайн-школы программирования X. Этот проект включает в себя работу с данными CRM системы, которая ведет учет статусов лидов и сделок. Ваша задача - очистка и анализ этих данных для повышения эффективности работы школы.f"
   ]
  },
  {
   "cell_type": "markdown",
   "id": "505bf3b2",
   "metadata": {},
   "source": [
    "### Описание данных\n",
    "\n",
    "\n"
   ]
  },
  {
   "cell_type": "markdown",
   "id": "bcfb1070",
   "metadata": {},
   "source": [
    "#### Contacts\n",
    "- `Id`: Идентификатор контакта.\n",
    "- `Contact Owner Name`: Имя лица, ответственного за управление контактом.\n",
    "- `Created Time`: Дата внесения контакта в базу.\n",
    "- `Modified Time`: Дата последней модификации контакта.\n",
    "\n"
   ]
  },
  {
   "cell_type": "markdown",
   "id": "76a73e8c",
   "metadata": {},
   "source": [
    "#### Calls\n",
    "- `Id`: Уникальный идентификатор для каждого звонка.\n",
    "- `Call Start Time`: Время начала звонка.\n",
    "- `Call Owner Name`: Имя лица, ответственного за звонок.\n",
    "- `CONTACTID`: Уникальный идентификатор контакта.\n",
    "- `Call Type`: Тип звонка.\n",
    "- `Call Duration (in seconds)`: Длительность звонка в секундах.\n",
    "- `Call Status`: Окончательный статус звонка.\n",
    "- `Dialled Number`: Набранный номер телефона.\n",
    "- `Outgoing Call Status`: Статус исходящих вызовов.\n",
    "- `Scheduled in CRM`: Указывает, был ли звонок запланирован через систему CRM.\n",
    "- `Tag`: Тэг вызова"
   ]
  },
  {
   "cell_type": "markdown",
   "id": "5357cf76",
   "metadata": {},
   "source": [
    "#### Spend\n",
    "- `Date`: Дата, указывающая, когда были отслежены показы, клики и расходы на рекламу.\n",
    "- `Source`: Канал, на котором было показано объявление\n",
    "- `Campaign`: Кампания, в рамках которой было показано объявление.\n",
    "- `Impressions`: Количество показов рекламы пользователям.\n",
    "- `Spend`: Количество денег, потраченных на рекламную кампанию или группу объявлений за указанный период.\n",
    "- `Clicks`: Количество нажатий пользователей на рекламу.\n",
    "- `AdGroup`: Подмножество в кампании, содержащее одно или несколько объявлений с одинаковыми целями или настройками.\n",
    "- `Ad`: Конкретная реклама, показываемая пользователям."
   ]
  },
  {
   "cell_type": "markdown",
   "id": "5a4eb504",
   "metadata": {},
   "source": [
    "#### Deals\n",
    "- `Id`: Уникальный идентификатор для каждой сделки.\n",
    "- `Deal Owner Name`: Имя лица, ответственного за сделку.\n",
    "- `Created Time`: Метка времени, когда была создана сделка.\n",
    "- `Course duration`: Длительность курса на который поступает студент\n",
    "- `Months of study`: Количество месяцев которые отучился студент\n",
    "- `Closing Date`: Дата закрытия сделки, если применимо.\n",
    "- `Quality`: Классификация качества сделки, указывающая на ее потенциальный или целевой статус.\n",
    "- `Stage`: Текущая стадия сделки.\n",
    "- `Lost Reason`: Причина, по которой сделка была потеряна, если применимо.\n",
    "- `Page`: Веб-страница или целевая страница, на которой был получен лид.\n",
    "- `Campaign`: Название или код маркетинговой кампании, связанной со сделкой.\n",
    "- `SLA`: Время действия соглашения об уровне обслуживания, указывающее на время отклика.\n",
    "- `Content`: (Ad): Конкретная реклама, показываемая пользователям.\n",
    "- `Term` (AdGroup): Подмножество в кампании, содержащее одно или несколько объявлений с одинаковыми целями или настройками.\n",
    "- `Source`: Источник лида.\n",
    "- `Payment Type`: Тип используемого или ожидаемого способа оплаты.\n",
    "- `Product`: Конкретный продукт или услуга, связанная со сделкой.\n",
    "- `Education Type`: Тип образования или обучения.\n",
    "- `Initial Amount Paid`: Первоначальный платеж клиента.\n",
    "- `Offer Total Amount`: Общая сумма предложения, представленного клиенту.\n",
    "- `Contact Name`: Идентификатор контактного лица по сделке.\n",
    "- `City`: Город, относящийся к клиенту.\n",
    "- `Level of Deutsch`: Уровень владения немецким языком клиента, если применимо.\n",
    "\n"
   ]
  },
  {
   "cell_type": "markdown",
   "id": "123cb531",
   "metadata": {},
   "source": [
    "Перед началом обработки удалим из файла Deals строку со значением `#REF!`, которое было замечено и является ненужным.\n",
    "\n",
    "Также удалим пустые строки из файлов Excel, поскольку они могут мешать обработке."
   ]
  },
  {
   "cell_type": "code",
   "execution_count": null,
   "id": "c4154daf",
   "metadata": {},
   "outputs": [],
   "source": []
  },
  {
   "cell_type": "code",
   "execution_count": 1,
   "id": "e0851e78",
   "metadata": {},
   "outputs": [],
   "source": [
    "from datetime import time, datetime, timedelta\n",
    "import re\n",
    "from collections import defaultdict\n",
    "\n",
    "import numpy as np\n",
    "import pandas as pd\n"
   ]
  },
  {
   "cell_type": "code",
   "execution_count": 2,
   "id": "ddb72672",
   "metadata": {},
   "outputs": [],
   "source": [
    "pd.set_option('display.max_columns', 100)\n",
    "pd.set_option('display.max_colwidth', 50)\n",
    "pd.set_option('display.max_rows', 250)"
   ]
  },
  {
   "cell_type": "code",
   "execution_count": 3,
   "id": "23bcc2ac",
   "metadata": {},
   "outputs": [],
   "source": [
    "path_input = 'E:/_ml/___courses/IT Career Hub/Project/project-20241112'"
   ]
  },
  {
   "cell_type": "code",
   "execution_count": null,
   "id": "10752c40",
   "metadata": {},
   "outputs": [],
   "source": []
  },
  {
   "cell_type": "markdown",
   "id": "f233d32c",
   "metadata": {},
   "source": [
    "### Contacts"
   ]
  },
  {
   "cell_type": "code",
   "execution_count": 4,
   "id": "6848c370",
   "metadata": {},
   "outputs": [
    {
     "name": "stdout",
     "output_type": "stream",
     "text": [
      "(18548, 4)\n"
     ]
    },
    {
     "data": {
      "text/html": [
       "<div>\n",
       "<style scoped>\n",
       "    .dataframe tbody tr th:only-of-type {\n",
       "        vertical-align: middle;\n",
       "    }\n",
       "\n",
       "    .dataframe tbody tr th {\n",
       "        vertical-align: top;\n",
       "    }\n",
       "\n",
       "    .dataframe thead th {\n",
       "        text-align: right;\n",
       "    }\n",
       "</style>\n",
       "<table border=\"1\" class=\"dataframe\">\n",
       "  <thead>\n",
       "    <tr style=\"text-align: right;\">\n",
       "      <th></th>\n",
       "      <th>Id</th>\n",
       "      <th>Contact Owner Name</th>\n",
       "      <th>Created Time</th>\n",
       "      <th>Modified Time</th>\n",
       "    </tr>\n",
       "  </thead>\n",
       "  <tbody>\n",
       "    <tr>\n",
       "      <th>0</th>\n",
       "      <td>5805028000000645014</td>\n",
       "      <td>Rachel White</td>\n",
       "      <td>2023-06-27 11:28:00</td>\n",
       "      <td>2023-12-22 13:34:00</td>\n",
       "    </tr>\n",
       "    <tr>\n",
       "      <th>1</th>\n",
       "      <td>5805028000000872003</td>\n",
       "      <td>Charlie Davis</td>\n",
       "      <td>2023-07-03 11:31:00</td>\n",
       "      <td>2024-05-21 10:23:00</td>\n",
       "    </tr>\n",
       "    <tr>\n",
       "      <th>2</th>\n",
       "      <td>5805028000000889001</td>\n",
       "      <td>Bob Brown</td>\n",
       "      <td>2023-07-02 22:37:00</td>\n",
       "      <td>2023-12-21 13:17:00</td>\n",
       "    </tr>\n",
       "    <tr>\n",
       "      <th>3</th>\n",
       "      <td>5805028000000907006</td>\n",
       "      <td>Bob Brown</td>\n",
       "      <td>2023-07-03 05:44:00</td>\n",
       "      <td>2023-12-29 15:20:00</td>\n",
       "    </tr>\n",
       "    <tr>\n",
       "      <th>4</th>\n",
       "      <td>5805028000000939010</td>\n",
       "      <td>Nina Scott</td>\n",
       "      <td>2023-07-04 10:11:00</td>\n",
       "      <td>2024-04-16 16:14:00</td>\n",
       "    </tr>\n",
       "  </tbody>\n",
       "</table>\n",
       "</div>"
      ],
      "text/plain": [
       "                    Id Contact Owner Name        Created Time  \\\n",
       "0  5805028000000645014       Rachel White 2023-06-27 11:28:00   \n",
       "1  5805028000000872003      Charlie Davis 2023-07-03 11:31:00   \n",
       "2  5805028000000889001          Bob Brown 2023-07-02 22:37:00   \n",
       "3  5805028000000907006          Bob Brown 2023-07-03 05:44:00   \n",
       "4  5805028000000939010         Nina Scott 2023-07-04 10:11:00   \n",
       "\n",
       "        Modified Time  \n",
       "0 2023-12-22 13:34:00  \n",
       "1 2024-05-21 10:23:00  \n",
       "2 2023-12-21 13:17:00  \n",
       "3 2023-12-29 15:20:00  \n",
       "4 2024-04-16 16:14:00  "
      ]
     },
     "execution_count": 4,
     "metadata": {},
     "output_type": "execute_result"
    }
   ],
   "source": [
    "contacts = pd.read_excel(\n",
    "    f'{path_input}/Contacts (Done).xlsx',\n",
    "    parse_dates=['Created Time', 'Modified Time'],\n",
    "    date_format='%d.%m.%Y %H:%M',\n",
    ")\n",
    "print(contacts.shape)\n",
    "contacts.head()"
   ]
  },
  {
   "cell_type": "code",
   "execution_count": 5,
   "id": "d25fb919",
   "metadata": {},
   "outputs": [
    {
     "name": "stdout",
     "output_type": "stream",
     "text": [
      "<class 'pandas.core.frame.DataFrame'>\n",
      "RangeIndex: 18548 entries, 0 to 18547\n",
      "Data columns (total 4 columns):\n",
      " #   Column              Non-Null Count  Dtype         \n",
      "---  ------              --------------  -----         \n",
      " 0   Id                  18548 non-null  int64         \n",
      " 1   Contact Owner Name  18548 non-null  object        \n",
      " 2   Created Time        18548 non-null  datetime64[ns]\n",
      " 3   Modified Time       18548 non-null  datetime64[ns]\n",
      "dtypes: datetime64[ns](2), int64(1), object(1)\n",
      "memory usage: 579.8+ KB\n"
     ]
    }
   ],
   "source": [
    "contacts.info()"
   ]
  },
  {
   "cell_type": "code",
   "execution_count": null,
   "id": "37792d0d",
   "metadata": {},
   "outputs": [],
   "source": []
  },
  {
   "cell_type": "markdown",
   "id": "15dcc5c6",
   "metadata": {},
   "source": [
    "### Calls"
   ]
  },
  {
   "cell_type": "code",
   "execution_count": 6,
   "id": "ba21ff7f",
   "metadata": {},
   "outputs": [
    {
     "name": "stdout",
     "output_type": "stream",
     "text": [
      "(95874, 11)\n"
     ]
    },
    {
     "data": {
      "text/html": [
       "<div>\n",
       "<style scoped>\n",
       "    .dataframe tbody tr th:only-of-type {\n",
       "        vertical-align: middle;\n",
       "    }\n",
       "\n",
       "    .dataframe tbody tr th {\n",
       "        vertical-align: top;\n",
       "    }\n",
       "\n",
       "    .dataframe thead th {\n",
       "        text-align: right;\n",
       "    }\n",
       "</style>\n",
       "<table border=\"1\" class=\"dataframe\">\n",
       "  <thead>\n",
       "    <tr style=\"text-align: right;\">\n",
       "      <th></th>\n",
       "      <th>Id</th>\n",
       "      <th>Call Start Time</th>\n",
       "      <th>Call Owner Name</th>\n",
       "      <th>CONTACTID</th>\n",
       "      <th>Call Type</th>\n",
       "      <th>Call Duration (in seconds)</th>\n",
       "      <th>Call Status</th>\n",
       "      <th>Dialled Number</th>\n",
       "      <th>Outgoing Call Status</th>\n",
       "      <th>Scheduled in CRM</th>\n",
       "      <th>Tag</th>\n",
       "    </tr>\n",
       "  </thead>\n",
       "  <tbody>\n",
       "    <tr>\n",
       "      <th>0</th>\n",
       "      <td>5805028000000805001</td>\n",
       "      <td>2023-06-30 08:43:00</td>\n",
       "      <td>John Doe</td>\n",
       "      <td>&lt;NA&gt;</td>\n",
       "      <td>Inbound</td>\n",
       "      <td>171</td>\n",
       "      <td>Received</td>\n",
       "      <td>NaN</td>\n",
       "      <td>NaN</td>\n",
       "      <td>NaN</td>\n",
       "      <td>NaN</td>\n",
       "    </tr>\n",
       "    <tr>\n",
       "      <th>1</th>\n",
       "      <td>5805028000000768006</td>\n",
       "      <td>2023-06-30 08:46:00</td>\n",
       "      <td>John Doe</td>\n",
       "      <td>&lt;NA&gt;</td>\n",
       "      <td>Outbound</td>\n",
       "      <td>28</td>\n",
       "      <td>Attended Dialled</td>\n",
       "      <td>NaN</td>\n",
       "      <td>Completed</td>\n",
       "      <td>False</td>\n",
       "      <td>NaN</td>\n",
       "    </tr>\n",
       "    <tr>\n",
       "      <th>2</th>\n",
       "      <td>5805028000000764027</td>\n",
       "      <td>2023-06-30 08:59:00</td>\n",
       "      <td>John Doe</td>\n",
       "      <td>&lt;NA&gt;</td>\n",
       "      <td>Outbound</td>\n",
       "      <td>24</td>\n",
       "      <td>Attended Dialled</td>\n",
       "      <td>NaN</td>\n",
       "      <td>Completed</td>\n",
       "      <td>False</td>\n",
       "      <td>NaN</td>\n",
       "    </tr>\n",
       "    <tr>\n",
       "      <th>3</th>\n",
       "      <td>5805028000000787003</td>\n",
       "      <td>2023-06-30 09:20:00</td>\n",
       "      <td>John Doe</td>\n",
       "      <td>5805028000000645014</td>\n",
       "      <td>Outbound</td>\n",
       "      <td>6</td>\n",
       "      <td>Attended Dialled</td>\n",
       "      <td>NaN</td>\n",
       "      <td>Completed</td>\n",
       "      <td>False</td>\n",
       "      <td>NaN</td>\n",
       "    </tr>\n",
       "    <tr>\n",
       "      <th>4</th>\n",
       "      <td>5805028000000768019</td>\n",
       "      <td>2023-06-30 09:30:00</td>\n",
       "      <td>John Doe</td>\n",
       "      <td>5805028000000645014</td>\n",
       "      <td>Outbound</td>\n",
       "      <td>11</td>\n",
       "      <td>Attended Dialled</td>\n",
       "      <td>NaN</td>\n",
       "      <td>Completed</td>\n",
       "      <td>False</td>\n",
       "      <td>NaN</td>\n",
       "    </tr>\n",
       "  </tbody>\n",
       "</table>\n",
       "</div>"
      ],
      "text/plain": [
       "                    Id     Call Start Time Call Owner Name  \\\n",
       "0  5805028000000805001 2023-06-30 08:43:00        John Doe   \n",
       "1  5805028000000768006 2023-06-30 08:46:00        John Doe   \n",
       "2  5805028000000764027 2023-06-30 08:59:00        John Doe   \n",
       "3  5805028000000787003 2023-06-30 09:20:00        John Doe   \n",
       "4  5805028000000768019 2023-06-30 09:30:00        John Doe   \n",
       "\n",
       "             CONTACTID Call Type  Call Duration (in seconds)  \\\n",
       "0                 <NA>   Inbound                         171   \n",
       "1                 <NA>  Outbound                          28   \n",
       "2                 <NA>  Outbound                          24   \n",
       "3  5805028000000645014  Outbound                           6   \n",
       "4  5805028000000645014  Outbound                          11   \n",
       "\n",
       "        Call Status  Dialled Number Outgoing Call Status Scheduled in CRM  Tag  \n",
       "0          Received             NaN                  NaN              NaN  NaN  \n",
       "1  Attended Dialled             NaN            Completed            False  NaN  \n",
       "2  Attended Dialled             NaN            Completed            False  NaN  \n",
       "3  Attended Dialled             NaN            Completed            False  NaN  \n",
       "4  Attended Dialled             NaN            Completed            False  NaN  "
      ]
     },
     "execution_count": 6,
     "metadata": {},
     "output_type": "execute_result"
    }
   ],
   "source": [
    "dtype_types = {\n",
    "    'CONTACTID': pd.Int64Dtype(),\n",
    "    'Call Duration (in seconds)': pd.Int64Dtype(),\n",
    "    'Scheduled in CRM': 'object', # pd.BooleanDtype(),\n",
    "}\n",
    "calls = pd.read_excel(\n",
    "    f'{path_input}/Calls (Done).xlsx',\n",
    "    dtype=dtype_types,\n",
    "    parse_dates=['Call Start Time'],\n",
    "    date_format='%d.%m.%Y %H:%M',\n",
    ")\n",
    "print(calls.shape)\n",
    "calls.head()"
   ]
  },
  {
   "cell_type": "code",
   "execution_count": 7,
   "id": "4a98eaac",
   "metadata": {},
   "outputs": [
    {
     "name": "stdout",
     "output_type": "stream",
     "text": [
      "<class 'pandas.core.frame.DataFrame'>\n",
      "RangeIndex: 95874 entries, 0 to 95873\n",
      "Data columns (total 11 columns):\n",
      " #   Column                      Non-Null Count  Dtype         \n",
      "---  ------                      --------------  -----         \n",
      " 0   Id                          95874 non-null  int64         \n",
      " 1   Call Start Time             95874 non-null  datetime64[ns]\n",
      " 2   Call Owner Name             95874 non-null  object        \n",
      " 3   CONTACTID                   91941 non-null  Int64         \n",
      " 4   Call Type                   95874 non-null  object        \n",
      " 5   Call Duration (in seconds)  95791 non-null  Int64         \n",
      " 6   Call Status                 95874 non-null  object        \n",
      " 7   Dialled Number              0 non-null      float64       \n",
      " 8   Outgoing Call Status        86875 non-null  object        \n",
      " 9   Scheduled in CRM            86875 non-null  object        \n",
      " 10  Tag                         0 non-null      float64       \n",
      "dtypes: Int64(2), datetime64[ns](1), float64(2), int64(1), object(5)\n",
      "memory usage: 8.2+ MB\n"
     ]
    }
   ],
   "source": [
    "calls.info()"
   ]
  },
  {
   "cell_type": "markdown",
   "id": "df35ed7f",
   "metadata": {},
   "source": [
    "Сразу удалим пустые колонки: `Dialled Number`, `Tag`"
   ]
  },
  {
   "cell_type": "code",
   "execution_count": 8,
   "id": "76dd88ac",
   "metadata": {},
   "outputs": [],
   "source": [
    "calls.drop(columns=['Dialled Number', 'Tag'], inplace=True)"
   ]
  },
  {
   "cell_type": "code",
   "execution_count": null,
   "id": "478cd410",
   "metadata": {},
   "outputs": [],
   "source": []
  },
  {
   "cell_type": "code",
   "execution_count": 9,
   "id": "e3df1506",
   "metadata": {},
   "outputs": [
    {
     "data": {
      "text/plain": [
       "Call Status\n",
       "Attended Dialled              70703\n",
       "Unattended Dialled            16030\n",
       "Missed                         5922\n",
       "Received                       3077\n",
       "Overdue                          60\n",
       "Scheduled Attended Delay         22\n",
       "Cancelled                        20\n",
       "Scheduled Unattended Delay       17\n",
       "Scheduled Attended               14\n",
       "Scheduled Unattended              6\n",
       "Scheduled                         3\n",
       "Name: count, dtype: int64"
      ]
     },
     "execution_count": 9,
     "metadata": {},
     "output_type": "execute_result"
    }
   ],
   "source": [
    "calls['Call Status'].value_counts()"
   ]
  },
  {
   "cell_type": "code",
   "execution_count": 10,
   "id": "9d959ce2",
   "metadata": {},
   "outputs": [
    {
     "data": {
      "text/plain": [
       "Outgoing Call Status\n",
       "Completed    86792\n",
       "Overdue         60\n",
       "Cancelled       20\n",
       "Scheduled        3\n",
       "Name: count, dtype: int64"
      ]
     },
     "execution_count": 10,
     "metadata": {},
     "output_type": "execute_result"
    }
   ],
   "source": [
    "calls['Outgoing Call Status'].value_counts()"
   ]
  },
  {
   "cell_type": "code",
   "execution_count": 11,
   "id": "0701b051",
   "metadata": {},
   "outputs": [
    {
     "data": {
      "text/plain": [
       "Call Type\n",
       "Outbound    86875\n",
       "Missed       5921\n",
       "Inbound      3078\n",
       "Name: count, dtype: int64"
      ]
     },
     "execution_count": 11,
     "metadata": {},
     "output_type": "execute_result"
    }
   ],
   "source": [
    "calls['Call Type'].value_counts()"
   ]
  },
  {
   "cell_type": "code",
   "execution_count": 12,
   "id": "e67540f6",
   "metadata": {},
   "outputs": [
    {
     "data": {
      "text/html": [
       "<div>\n",
       "<style scoped>\n",
       "    .dataframe tbody tr th:only-of-type {\n",
       "        vertical-align: middle;\n",
       "    }\n",
       "\n",
       "    .dataframe tbody tr th {\n",
       "        vertical-align: top;\n",
       "    }\n",
       "\n",
       "    .dataframe thead th {\n",
       "        text-align: right;\n",
       "    }\n",
       "</style>\n",
       "<table border=\"1\" class=\"dataframe\">\n",
       "  <thead>\n",
       "    <tr style=\"text-align: right;\">\n",
       "      <th></th>\n",
       "      <th>Id</th>\n",
       "      <th>Call Start Time</th>\n",
       "      <th>Call Owner Name</th>\n",
       "      <th>CONTACTID</th>\n",
       "      <th>Call Type</th>\n",
       "      <th>Call Duration (in seconds)</th>\n",
       "      <th>Call Status</th>\n",
       "      <th>Outgoing Call Status</th>\n",
       "      <th>Scheduled in CRM</th>\n",
       "    </tr>\n",
       "  </thead>\n",
       "  <tbody>\n",
       "  </tbody>\n",
       "</table>\n",
       "</div>"
      ],
      "text/plain": [
       "Empty DataFrame\n",
       "Columns: [Id, Call Start Time, Call Owner Name, CONTACTID, Call Type, Call Duration (in seconds), Call Status, Outgoing Call Status, Scheduled in CRM]\n",
       "Index: []"
      ]
     },
     "execution_count": 12,
     "metadata": {},
     "output_type": "execute_result"
    }
   ],
   "source": [
    "calls[(calls['Call Type']=='Missed')&calls['Call Duration (in seconds)']>0]"
   ]
  },
  {
   "cell_type": "code",
   "execution_count": null,
   "id": "12ae3b45",
   "metadata": {},
   "outputs": [],
   "source": []
  },
  {
   "cell_type": "code",
   "execution_count": null,
   "id": "35207c3c",
   "metadata": {},
   "outputs": [],
   "source": []
  },
  {
   "cell_type": "markdown",
   "id": "aae2ec46",
   "metadata": {},
   "source": [
    "### Spend"
   ]
  },
  {
   "cell_type": "code",
   "execution_count": 13,
   "id": "2710a6db",
   "metadata": {
    "scrolled": true
   },
   "outputs": [
    {
     "name": "stdout",
     "output_type": "stream",
     "text": [
      "(20779, 8)\n"
     ]
    },
    {
     "data": {
      "text/html": [
       "<div>\n",
       "<style scoped>\n",
       "    .dataframe tbody tr th:only-of-type {\n",
       "        vertical-align: middle;\n",
       "    }\n",
       "\n",
       "    .dataframe tbody tr th {\n",
       "        vertical-align: top;\n",
       "    }\n",
       "\n",
       "    .dataframe thead th {\n",
       "        text-align: right;\n",
       "    }\n",
       "</style>\n",
       "<table border=\"1\" class=\"dataframe\">\n",
       "  <thead>\n",
       "    <tr style=\"text-align: right;\">\n",
       "      <th></th>\n",
       "      <th>Date</th>\n",
       "      <th>Source</th>\n",
       "      <th>Campaign</th>\n",
       "      <th>Impressions</th>\n",
       "      <th>Spend</th>\n",
       "      <th>Clicks</th>\n",
       "      <th>AdGroup</th>\n",
       "      <th>Ad</th>\n",
       "    </tr>\n",
       "  </thead>\n",
       "  <tbody>\n",
       "    <tr>\n",
       "      <th>0</th>\n",
       "      <td>2023-07-03</td>\n",
       "      <td>Google Ads</td>\n",
       "      <td>gen_analyst_DE</td>\n",
       "      <td>6</td>\n",
       "      <td>0.00</td>\n",
       "      <td>0</td>\n",
       "      <td>NaN</td>\n",
       "      <td>NaN</td>\n",
       "    </tr>\n",
       "    <tr>\n",
       "      <th>1</th>\n",
       "      <td>2023-07-03</td>\n",
       "      <td>Google Ads</td>\n",
       "      <td>performancemax_eng_DE</td>\n",
       "      <td>4</td>\n",
       "      <td>0.01</td>\n",
       "      <td>1</td>\n",
       "      <td>NaN</td>\n",
       "      <td>NaN</td>\n",
       "    </tr>\n",
       "    <tr>\n",
       "      <th>2</th>\n",
       "      <td>2023-07-03</td>\n",
       "      <td>Facebook Ads</td>\n",
       "      <td>NaN</td>\n",
       "      <td>0</td>\n",
       "      <td>0.00</td>\n",
       "      <td>0</td>\n",
       "      <td>NaN</td>\n",
       "      <td>NaN</td>\n",
       "    </tr>\n",
       "    <tr>\n",
       "      <th>3</th>\n",
       "      <td>2023-07-03</td>\n",
       "      <td>Google Ads</td>\n",
       "      <td>NaN</td>\n",
       "      <td>0</td>\n",
       "      <td>0.00</td>\n",
       "      <td>0</td>\n",
       "      <td>NaN</td>\n",
       "      <td>NaN</td>\n",
       "    </tr>\n",
       "    <tr>\n",
       "      <th>4</th>\n",
       "      <td>2023-07-03</td>\n",
       "      <td>CRM</td>\n",
       "      <td>NaN</td>\n",
       "      <td>0</td>\n",
       "      <td>0.00</td>\n",
       "      <td>0</td>\n",
       "      <td>NaN</td>\n",
       "      <td>NaN</td>\n",
       "    </tr>\n",
       "  </tbody>\n",
       "</table>\n",
       "</div>"
      ],
      "text/plain": [
       "        Date        Source               Campaign  Impressions  Spend  Clicks  \\\n",
       "0 2023-07-03    Google Ads         gen_analyst_DE            6   0.00       0   \n",
       "1 2023-07-03    Google Ads  performancemax_eng_DE            4   0.01       1   \n",
       "2 2023-07-03  Facebook Ads                    NaN            0   0.00       0   \n",
       "3 2023-07-03    Google Ads                    NaN            0   0.00       0   \n",
       "4 2023-07-03           CRM                    NaN            0   0.00       0   \n",
       "\n",
       "  AdGroup   Ad  \n",
       "0     NaN  NaN  \n",
       "1     NaN  NaN  \n",
       "2     NaN  NaN  \n",
       "3     NaN  NaN  \n",
       "4     NaN  NaN  "
      ]
     },
     "execution_count": 13,
     "metadata": {},
     "output_type": "execute_result"
    }
   ],
   "source": [
    "spend = pd.read_excel(f'{path_input}/Spend (Done).xlsx')\n",
    "print(spend.shape)\n",
    "spend.head()"
   ]
  },
  {
   "cell_type": "code",
   "execution_count": 14,
   "id": "2f301b7b",
   "metadata": {},
   "outputs": [
    {
     "name": "stdout",
     "output_type": "stream",
     "text": [
      "<class 'pandas.core.frame.DataFrame'>\n",
      "RangeIndex: 20779 entries, 0 to 20778\n",
      "Data columns (total 8 columns):\n",
      " #   Column       Non-Null Count  Dtype         \n",
      "---  ------       --------------  -----         \n",
      " 0   Date         20779 non-null  datetime64[ns]\n",
      " 1   Source       20779 non-null  object        \n",
      " 2   Campaign     14785 non-null  object        \n",
      " 3   Impressions  20779 non-null  int64         \n",
      " 4   Spend        20779 non-null  float64       \n",
      " 5   Clicks       20779 non-null  int64         \n",
      " 6   AdGroup      13951 non-null  object        \n",
      " 7   Ad           13951 non-null  object        \n",
      "dtypes: datetime64[ns](1), float64(1), int64(2), object(4)\n",
      "memory usage: 1.3+ MB\n"
     ]
    }
   ],
   "source": [
    "spend.info()"
   ]
  },
  {
   "cell_type": "code",
   "execution_count": null,
   "id": "84cee103",
   "metadata": {},
   "outputs": [],
   "source": []
  },
  {
   "cell_type": "code",
   "execution_count": 15,
   "id": "30840b9c",
   "metadata": {},
   "outputs": [
    {
     "data": {
      "text/plain": [
       "Source\n",
       "Facebook Ads      9732\n",
       "Tiktok Ads        3066\n",
       "Youtube Ads       1926\n",
       "Google Ads        1428\n",
       "Telegram posts    1003\n",
       "Bloggers           787\n",
       "Webinar            766\n",
       "SMM                614\n",
       "Organic            518\n",
       "CRM                355\n",
       "Test               262\n",
       "Partnership        234\n",
       "Offline             61\n",
       "Radio               27\n",
       "Name: count, dtype: int64"
      ]
     },
     "execution_count": 15,
     "metadata": {},
     "output_type": "execute_result"
    }
   ],
   "source": [
    "spend['Source'].value_counts()"
   ]
  },
  {
   "cell_type": "code",
   "execution_count": 16,
   "id": "3b5b82a0",
   "metadata": {},
   "outputs": [
    {
     "data": {
      "text/plain": [
       "Campaign\n",
       "12.07.2023wide_DE              2073\n",
       "02.07.23wide_DE                1685\n",
       "04.07.23recentlymoved_DE       1398\n",
       "youtube_shorts_DE              1223\n",
       "07.07.23LAL_DE                 1181\n",
       "03.07.23women                  1171\n",
       "12.09.23interests_Uxui_DE      1143\n",
       "15.07.23b_DE                    529\n",
       "24.09.23retargeting_DE          504\n",
       "performancemax_eng_DE           355\n",
       "20.03.2024wide_PL               240\n",
       "30.11.23wide_DE                 233\n",
       "05.07.23interests_DE            214\n",
       "17.03.24wide_AT                 198\n",
       "07.12.23test_DE                 176\n",
       "20.03.24interests_WebDev_PL     169\n",
       "discovery_DE                    166\n",
       "brand_search_eng_DE             146\n",
       "08.04.24wide_webinar_DE         133\n",
       "youtube_shortsin_AT             133\n",
       "20.05.24interests_DE            130\n",
       "20.03.24_widde_PL               129\n",
       "15.03.2024wide_AT               111\n",
       "15.11.23wide_webinar_DE         107\n",
       "01.04.23women_PL                103\n",
       "performancemax_wide_AT           93\n",
       "05.09.2023wide_DE                88\n",
       "18.10.23wide_gos_DE              80\n",
       "web2408_DE                       76\n",
       "shorts_PL                        73\n",
       "22.05.2024wide_DE                60\n",
       "24.07.2023wide_DE                58\n",
       "20.03.24interests_WebDev_AT      57\n",
       "14.11.23wide_webinar_DE          56\n",
       "1performancemax_wide_PL          49\n",
       "gen_analyst_DE                   48\n",
       "09.02.24berlin_dd_DE             48\n",
       "10.07.23wide_com_DE              45\n",
       "discovery_wide1_AT               44\n",
       "08.06.24wide_webinar_DE          44\n",
       "15.04.24LAL_ab__PL               39\n",
       "02.08.23interests_DE             36\n",
       "15.03.24recentlymoved_AT         35\n",
       "12.06.24wide_DE                  29\n",
       "02.05.24test_DE                  21\n",
       "20.05.24wide_DE                  21\n",
       "01.02.24wide_webinar_DE          16\n",
       "20.03.24recentlymoved_PL          9\n",
       "comp_search_DE                    8\n",
       "bbo_DE                            1\n",
       "blog2_DE                          1\n",
       "Name: count, dtype: int64"
      ]
     },
     "execution_count": 16,
     "metadata": {},
     "output_type": "execute_result"
    }
   ],
   "source": [
    "spend['Campaign'].value_counts()"
   ]
  },
  {
   "cell_type": "code",
   "execution_count": 17,
   "id": "e9f9df43",
   "metadata": {},
   "outputs": [
    {
     "data": {
      "text/plain": [
       "AdGroup\n",
       "wide                             5451\n",
       "recentlymoved                    1442\n",
       "women                            1274\n",
       "LAL1                             1220\n",
       "Com_august                       1073\n",
       "interest_work_WebDev              733\n",
       "interest_programming_WebDev       636\n",
       "b                                 566\n",
       "retargeting                       504\n",
       "Com_march                         206\n",
       "interest_work                     181\n",
       "Com_july_1                        150\n",
       "interest_programming              121\n",
       "promoposts_b                       71\n",
       "wide_python-developer              56\n",
       "wide_qa-engineer                   50\n",
       "berlin_wide                        48\n",
       "wide_webdesigner                   42\n",
       "interest_all                       36\n",
       "interest_python-developer          28\n",
       "interest_dataanalytics             27\n",
       "accountant_wide                    21\n",
       "interest_programming – Copy         8\n",
       "interest_dataanalytics – Copy       7\n",
       "Name: count, dtype: int64"
      ]
     },
     "execution_count": 17,
     "metadata": {},
     "output_type": "execute_result"
    }
   ],
   "source": [
    "spend['AdGroup'].value_counts()"
   ]
  },
  {
   "cell_type": "code",
   "execution_count": null,
   "id": "f2cb201a",
   "metadata": {},
   "outputs": [],
   "source": []
  },
  {
   "cell_type": "markdown",
   "id": "3e53cceb",
   "metadata": {},
   "source": [
    "### Deals"
   ]
  },
  {
   "cell_type": "code",
   "execution_count": 18,
   "id": "cc46ccdd",
   "metadata": {},
   "outputs": [
    {
     "name": "stdout",
     "output_type": "stream",
     "text": [
      "(21593, 23)\n"
     ]
    },
    {
     "data": {
      "text/html": [
       "<div>\n",
       "<style scoped>\n",
       "    .dataframe tbody tr th:only-of-type {\n",
       "        vertical-align: middle;\n",
       "    }\n",
       "\n",
       "    .dataframe tbody tr th {\n",
       "        vertical-align: top;\n",
       "    }\n",
       "\n",
       "    .dataframe thead th {\n",
       "        text-align: right;\n",
       "    }\n",
       "</style>\n",
       "<table border=\"1\" class=\"dataframe\">\n",
       "  <thead>\n",
       "    <tr style=\"text-align: right;\">\n",
       "      <th></th>\n",
       "      <th>Id</th>\n",
       "      <th>Deal Owner Name</th>\n",
       "      <th>Closing Date</th>\n",
       "      <th>Quality</th>\n",
       "      <th>Stage</th>\n",
       "      <th>Lost Reason</th>\n",
       "      <th>Page</th>\n",
       "      <th>Campaign</th>\n",
       "      <th>SLA</th>\n",
       "      <th>Content</th>\n",
       "      <th>Term</th>\n",
       "      <th>Source</th>\n",
       "      <th>Payment Type</th>\n",
       "      <th>Product</th>\n",
       "      <th>Education Type</th>\n",
       "      <th>Created Time</th>\n",
       "      <th>Course duration</th>\n",
       "      <th>Months of study</th>\n",
       "      <th>Initial Amount Paid</th>\n",
       "      <th>Offer Total Amount</th>\n",
       "      <th>Contact Name</th>\n",
       "      <th>City</th>\n",
       "      <th>Level of Deutsch</th>\n",
       "    </tr>\n",
       "  </thead>\n",
       "  <tbody>\n",
       "    <tr>\n",
       "      <th>0</th>\n",
       "      <td>5805028000056864695</td>\n",
       "      <td>Ben Hall</td>\n",
       "      <td>NaN</td>\n",
       "      <td>NaN</td>\n",
       "      <td>New Lead</td>\n",
       "      <td>NaN</td>\n",
       "      <td>/eng/test</td>\n",
       "      <td>03.07.23women</td>\n",
       "      <td>NaN</td>\n",
       "      <td>v16</td>\n",
       "      <td>women</td>\n",
       "      <td>Facebook Ads</td>\n",
       "      <td>NaN</td>\n",
       "      <td>NaN</td>\n",
       "      <td>NaN</td>\n",
       "      <td>2024-06-21 15:30:00</td>\n",
       "      <td>&lt;NA&gt;</td>\n",
       "      <td>&lt;NA&gt;</td>\n",
       "      <td>NaN</td>\n",
       "      <td>NaN</td>\n",
       "      <td>5805028000056849495</td>\n",
       "      <td>NaN</td>\n",
       "      <td>NaN</td>\n",
       "    </tr>\n",
       "    <tr>\n",
       "      <th>1</th>\n",
       "      <td>5805028000056859489</td>\n",
       "      <td>Ulysses Adams</td>\n",
       "      <td>NaN</td>\n",
       "      <td>NaN</td>\n",
       "      <td>New Lead</td>\n",
       "      <td>NaN</td>\n",
       "      <td>/at-eng</td>\n",
       "      <td>NaN</td>\n",
       "      <td>NaN</td>\n",
       "      <td>NaN</td>\n",
       "      <td>NaN</td>\n",
       "      <td>Organic</td>\n",
       "      <td>NaN</td>\n",
       "      <td>Web Developer</td>\n",
       "      <td>Morning</td>\n",
       "      <td>2024-06-21 15:23:00</td>\n",
       "      <td>6</td>\n",
       "      <td>&lt;NA&gt;</td>\n",
       "      <td>0</td>\n",
       "      <td>2000</td>\n",
       "      <td>5805028000056834471</td>\n",
       "      <td>NaN</td>\n",
       "      <td>NaN</td>\n",
       "    </tr>\n",
       "    <tr>\n",
       "      <th>2</th>\n",
       "      <td>5805028000056832357</td>\n",
       "      <td>Ulysses Adams</td>\n",
       "      <td>21.06.2024</td>\n",
       "      <td>D - Non Target</td>\n",
       "      <td>Lost</td>\n",
       "      <td>Non target</td>\n",
       "      <td>/at-eng</td>\n",
       "      <td>engwien_AT</td>\n",
       "      <td>00:26:43</td>\n",
       "      <td>b1-at</td>\n",
       "      <td>21_06_2024</td>\n",
       "      <td>Telegram posts</td>\n",
       "      <td>NaN</td>\n",
       "      <td>NaN</td>\n",
       "      <td>NaN</td>\n",
       "      <td>2024-06-21 14:45:00</td>\n",
       "      <td>&lt;NA&gt;</td>\n",
       "      <td>&lt;NA&gt;</td>\n",
       "      <td>NaN</td>\n",
       "      <td>NaN</td>\n",
       "      <td>5805028000056854421</td>\n",
       "      <td>NaN</td>\n",
       "      <td>NaN</td>\n",
       "    </tr>\n",
       "    <tr>\n",
       "      <th>3</th>\n",
       "      <td>5805028000056824246</td>\n",
       "      <td>Eva Kent</td>\n",
       "      <td>21.06.2024</td>\n",
       "      <td>E - Non Qualified</td>\n",
       "      <td>Lost</td>\n",
       "      <td>Invalid number</td>\n",
       "      <td>/eng</td>\n",
       "      <td>04.07.23recentlymoved_DE</td>\n",
       "      <td>01:00:04</td>\n",
       "      <td>bloggersvideo14com</td>\n",
       "      <td>recentlymoved</td>\n",
       "      <td>Facebook Ads</td>\n",
       "      <td>NaN</td>\n",
       "      <td>NaN</td>\n",
       "      <td>NaN</td>\n",
       "      <td>2024-06-21 13:32:00</td>\n",
       "      <td>&lt;NA&gt;</td>\n",
       "      <td>&lt;NA&gt;</td>\n",
       "      <td>NaN</td>\n",
       "      <td>NaN</td>\n",
       "      <td>5805028000056889351</td>\n",
       "      <td>NaN</td>\n",
       "      <td>NaN</td>\n",
       "    </tr>\n",
       "    <tr>\n",
       "      <th>4</th>\n",
       "      <td>5805028000056873292</td>\n",
       "      <td>Ben Hall</td>\n",
       "      <td>21.06.2024</td>\n",
       "      <td>D - Non Target</td>\n",
       "      <td>Lost</td>\n",
       "      <td>Non target</td>\n",
       "      <td>/eng</td>\n",
       "      <td>discovery_DE</td>\n",
       "      <td>00:53:12</td>\n",
       "      <td>website</td>\n",
       "      <td>NaN</td>\n",
       "      <td>Google Ads</td>\n",
       "      <td>NaN</td>\n",
       "      <td>NaN</td>\n",
       "      <td>NaN</td>\n",
       "      <td>2024-06-21 13:21:00</td>\n",
       "      <td>&lt;NA&gt;</td>\n",
       "      <td>&lt;NA&gt;</td>\n",
       "      <td>NaN</td>\n",
       "      <td>NaN</td>\n",
       "      <td>5805028000056876176</td>\n",
       "      <td>NaN</td>\n",
       "      <td>NaN</td>\n",
       "    </tr>\n",
       "  </tbody>\n",
       "</table>\n",
       "</div>"
      ],
      "text/plain": [
       "                    Id Deal Owner Name Closing Date            Quality  \\\n",
       "0  5805028000056864695        Ben Hall          NaN                NaN   \n",
       "1  5805028000056859489   Ulysses Adams          NaN                NaN   \n",
       "2  5805028000056832357   Ulysses Adams   21.06.2024     D - Non Target   \n",
       "3  5805028000056824246        Eva Kent   21.06.2024  E - Non Qualified   \n",
       "4  5805028000056873292        Ben Hall   21.06.2024     D - Non Target   \n",
       "\n",
       "      Stage     Lost Reason       Page                  Campaign       SLA  \\\n",
       "0  New Lead             NaN  /eng/test             03.07.23women       NaN   \n",
       "1  New Lead             NaN    /at-eng                       NaN       NaN   \n",
       "2      Lost      Non target    /at-eng                engwien_AT  00:26:43   \n",
       "3      Lost  Invalid number       /eng  04.07.23recentlymoved_DE  01:00:04   \n",
       "4      Lost      Non target       /eng              discovery_DE  00:53:12   \n",
       "\n",
       "              Content           Term          Source Payment Type  \\\n",
       "0                 v16          women    Facebook Ads          NaN   \n",
       "1                 NaN            NaN         Organic          NaN   \n",
       "2               b1-at     21_06_2024  Telegram posts          NaN   \n",
       "3  bloggersvideo14com  recentlymoved    Facebook Ads          NaN   \n",
       "4             website            NaN      Google Ads          NaN   \n",
       "\n",
       "         Product Education Type        Created Time  Course duration  \\\n",
       "0            NaN            NaN 2024-06-21 15:30:00             <NA>   \n",
       "1  Web Developer        Morning 2024-06-21 15:23:00                6   \n",
       "2            NaN            NaN 2024-06-21 14:45:00             <NA>   \n",
       "3            NaN            NaN 2024-06-21 13:32:00             <NA>   \n",
       "4            NaN            NaN 2024-06-21 13:21:00             <NA>   \n",
       "\n",
       "   Months of study Initial Amount Paid Offer Total Amount  \\\n",
       "0             <NA>                 NaN                NaN   \n",
       "1             <NA>                   0               2000   \n",
       "2             <NA>                 NaN                NaN   \n",
       "3             <NA>                 NaN                NaN   \n",
       "4             <NA>                 NaN                NaN   \n",
       "\n",
       "          Contact Name City Level of Deutsch  \n",
       "0  5805028000056849495  NaN              NaN  \n",
       "1  5805028000056834471  NaN              NaN  \n",
       "2  5805028000056854421  NaN              NaN  \n",
       "3  5805028000056889351  NaN              NaN  \n",
       "4  5805028000056876176  NaN              NaN  "
      ]
     },
     "execution_count": 18,
     "metadata": {},
     "output_type": "execute_result"
    }
   ],
   "source": [
    "dtype_types = {\n",
    "    'Id': pd.Int64Dtype(),\n",
    "    'Course duration': pd.Int16Dtype(),\n",
    "    'Months of study': pd.Int16Dtype(),\n",
    "    'Contact Name': pd.Int64Dtype(),\n",
    "}\n",
    "\n",
    "deals = pd.read_excel(\n",
    "    f'{path_input}/Deals (Done).xlsx',\n",
    "    dtype=dtype_types,\n",
    "    parse_dates=['Created Time'],\n",
    "    date_format='%d.%m.%Y %H:%M',\n",
    ")\n",
    "print(deals.shape)\n",
    "deals.head()"
   ]
  },
  {
   "cell_type": "code",
   "execution_count": 19,
   "id": "2abe056f",
   "metadata": {},
   "outputs": [],
   "source": [
    "# Преобразование 'Closing Date' в тип datetime\n",
    "deals['Closing Date'] = pd.to_datetime(deals['Closing Date'], format='%d.%m.%Y', errors='coerce')"
   ]
  },
  {
   "cell_type": "code",
   "execution_count": 20,
   "id": "f25268f5",
   "metadata": {},
   "outputs": [
    {
     "data": {
      "text/plain": [
       "Initial Amount Paid\n",
       "1000          2623\n",
       "0              876\n",
       "300            188\n",
       "500             94\n",
       "350             82\n",
       "2000            58\n",
       "11000           38\n",
       "200             31\n",
       "11500           25\n",
       "3500            22\n",
       "1500            16\n",
       "€ 3.500,00      16\n",
       "450             16\n",
       "5000            14\n",
       "4000            13\n",
       "100             12\n",
       "3000            11\n",
       "4500            10\n",
       "400             10\n",
       "1                3\n",
       "600              3\n",
       "1200             2\n",
       "700              1\n",
       "9                1\n",
       "Name: count, dtype: int64"
      ]
     },
     "execution_count": 20,
     "metadata": {},
     "output_type": "execute_result"
    }
   ],
   "source": [
    "deals['Initial Amount Paid'].value_counts()"
   ]
  },
  {
   "cell_type": "code",
   "execution_count": 21,
   "id": "f6704a9a",
   "metadata": {},
   "outputs": [
    {
     "data": {
      "text/plain": [
       "Offer Total Amount\n",
       "11000         1860\n",
       "0              848\n",
       "11500          394\n",
       "5000           295\n",
       "4000           252\n",
       "3500           133\n",
       "9000           115\n",
       "2500            70\n",
       "2000            63\n",
       "3000            58\n",
       "4500            57\n",
       "€ 2.900,00      20\n",
       "1200             6\n",
       "1000             3\n",
       "1500             3\n",
       "10000            2\n",
       "1                2\n",
       "6500             1\n",
       "€ 11398,00       1\n",
       "11111            1\n",
       "6000             1\n",
       "Name: count, dtype: int64"
      ]
     },
     "execution_count": 21,
     "metadata": {},
     "output_type": "execute_result"
    }
   ],
   "source": [
    "deals['Offer Total Amount'].value_counts()"
   ]
  },
  {
   "cell_type": "markdown",
   "id": "0f7b0c1e",
   "metadata": {},
   "source": [
    "Уберем в двух колонках `Initial Amount Paid`, `'Offer Total Amount` - знаки € и преобразуем в целые числа"
   ]
  },
  {
   "cell_type": "code",
   "execution_count": 22,
   "id": "b1415c60",
   "metadata": {},
   "outputs": [],
   "source": [
    "def clean_euro_and_convert(value):\n",
    "    if pd.isna(value): return np.nan\n",
    "    if isinstance(value, str):\n",
    "        # Удаляем \"€\", пробелы и заменяем запятую на точку\n",
    "        cleaned_value = value.replace('€', '').replace(' ', '').replace('.', '').replace(',', '.')\n",
    "        return pd.to_numeric(cleaned_value, errors='coerce')\n",
    "    return value"
   ]
  },
  {
   "cell_type": "code",
   "execution_count": 23,
   "id": "a78a2ae9",
   "metadata": {},
   "outputs": [],
   "source": [
    "deals['Initial Amount Paid'] = deals['Initial Amount Paid'].apply(clean_euro_and_convert)\n",
    "deals['Offer Total Amount'] = deals['Offer Total Amount'].apply(clean_euro_and_convert)\n",
    "\n",
    "deals['Initial Amount Paid'] = deals['Initial Amount Paid'].astype(pd.Int64Dtype())\n",
    "deals['Offer Total Amount'] = deals['Offer Total Amount'].astype(pd.Int64Dtype())"
   ]
  },
  {
   "cell_type": "code",
   "execution_count": 24,
   "id": "cccf4991",
   "metadata": {},
   "outputs": [
    {
     "data": {
      "text/plain": [
       "Offer Total Amount\n",
       "11000    1860\n",
       "0         848\n",
       "11500     394\n",
       "5000      295\n",
       "4000      252\n",
       "3500      133\n",
       "9000      115\n",
       "2500       70\n",
       "2000       63\n",
       "3000       58\n",
       "4500       57\n",
       "2900       20\n",
       "1200        6\n",
       "1000        3\n",
       "1500        3\n",
       "10000       2\n",
       "1           2\n",
       "6500        1\n",
       "11398       1\n",
       "11111       1\n",
       "6000        1\n",
       "Name: count, dtype: Int64"
      ]
     },
     "execution_count": 24,
     "metadata": {},
     "output_type": "execute_result"
    }
   ],
   "source": [
    "deals['Offer Total Amount'].value_counts()"
   ]
  },
  {
   "cell_type": "code",
   "execution_count": 25,
   "id": "47d111c7",
   "metadata": {},
   "outputs": [
    {
     "name": "stdout",
     "output_type": "stream",
     "text": [
      "<class 'pandas.core.frame.DataFrame'>\n",
      "RangeIndex: 21593 entries, 0 to 21592\n",
      "Data columns (total 23 columns):\n",
      " #   Column               Non-Null Count  Dtype         \n",
      "---  ------               --------------  -----         \n",
      " 0   Id                   21593 non-null  Int64         \n",
      " 1   Deal Owner Name      21564 non-null  object        \n",
      " 2   Closing Date         14645 non-null  datetime64[ns]\n",
      " 3   Quality              19340 non-null  object        \n",
      " 4   Stage                21593 non-null  object        \n",
      " 5   Lost Reason          16124 non-null  object        \n",
      " 6   Page                 21593 non-null  object        \n",
      " 7   Campaign             16067 non-null  object        \n",
      " 8   SLA                  15533 non-null  object        \n",
      " 9   Content              14147 non-null  object        \n",
      " 10  Term                 12454 non-null  object        \n",
      " 11  Source               21593 non-null  object        \n",
      " 12  Payment Type         496 non-null    object        \n",
      " 13  Product              3592 non-null   object        \n",
      " 14  Education Type       3299 non-null   object        \n",
      " 15  Created Time         21593 non-null  datetime64[ns]\n",
      " 16  Course duration      3587 non-null   Int16         \n",
      " 17  Months of study      840 non-null    Int16         \n",
      " 18  Initial Amount Paid  4165 non-null   Int64         \n",
      " 19  Offer Total Amount   4185 non-null   Int64         \n",
      " 20  Contact Name         21532 non-null  Int64         \n",
      " 21  City                 2511 non-null   object        \n",
      " 22  Level of Deutsch     1251 non-null   object        \n",
      "dtypes: Int16(2), Int64(4), datetime64[ns](2), object(15)\n",
      "memory usage: 3.7+ MB\n"
     ]
    }
   ],
   "source": [
    "deals.info()"
   ]
  },
  {
   "cell_type": "markdown",
   "id": "839d4434",
   "metadata": {},
   "source": [
    "Было выяснено, что в некоторых строках перепутаны значения `Initial Amount Paid` - `Offer Total Amount`. Проверим это"
   ]
  },
  {
   "cell_type": "code",
   "execution_count": 26,
   "id": "fb4d870b",
   "metadata": {},
   "outputs": [
    {
     "data": {
      "text/plain": [
       "(58, 23)"
      ]
     },
     "execution_count": 26,
     "metadata": {},
     "output_type": "execute_result"
    }
   ],
   "source": [
    "deals[deals['Initial Amount Paid']>deals['Offer Total Amount']].shape"
   ]
  },
  {
   "cell_type": "markdown",
   "id": "4c751f4e",
   "metadata": {},
   "source": [
    "Поменяем суммы местами в таких строках, где Initial > Total"
   ]
  },
  {
   "cell_type": "code",
   "execution_count": 27,
   "id": "f0bc8176",
   "metadata": {},
   "outputs": [],
   "source": [
    "mask = deals['Initial Amount Paid'] > deals['Offer Total Amount']\n",
    "deals.loc[mask, ['Initial Amount Paid', 'Offer Total Amount']] = \\\n",
    "    deals.loc[mask, ['Offer Total Amount', 'Initial Amount Paid']].values\n"
   ]
  },
  {
   "cell_type": "code",
   "execution_count": null,
   "id": "93b1ca10",
   "metadata": {},
   "outputs": [],
   "source": []
  },
  {
   "cell_type": "markdown",
   "id": "1d1ab3a8",
   "metadata": {},
   "source": [
    "Сейчас у нас `SLA` в виде строк. Преобразуем в целые минуты."
   ]
  },
  {
   "cell_type": "code",
   "execution_count": 28,
   "id": "1b052253",
   "metadata": {},
   "outputs": [],
   "source": [
    "def sla_to_minutes(value):\n",
    "    if pd.isna(value):\n",
    "        return np.nan\n",
    "    \n",
    "    base_date = datetime(1900, 1, 1)\n",
    "    if isinstance(value, str):\n",
    "        try:\n",
    "            dt = pd.to_datetime(value)\n",
    "            hours, minutes = dt.hour, dt.minute\n",
    "        except ValueError:\n",
    "            print(f\"Неверный формат строки: {value}\")\n",
    "            return np.nan\n",
    "    elif isinstance(value, time):\n",
    "        hours, minutes = value.hour, value.minute\n",
    "    elif isinstance(value, datetime):\n",
    "        \n",
    "        hours, minutes = value.hour, value.minute\n",
    "        delta = value - base_date\n",
    "        hours += (delta.days + 1) * 24\n",
    "    else:\n",
    "        print(f\"Неподдерживаемый тип: {value}, {type(value)}\")\n",
    "        return np.nan\n",
    "    \n",
    "    total_minutes = hours * 60 + minutes\n",
    "    return total_minutes"
   ]
  },
  {
   "cell_type": "code",
   "execution_count": 29,
   "id": "31630b39",
   "metadata": {},
   "outputs": [],
   "source": [
    "deals['SLA Minutes'] = deals['SLA'].apply(sla_to_minutes)\n",
    "deals['SLA Minutes'] = deals['SLA Minutes'].astype(pd.Int64Dtype())"
   ]
  },
  {
   "cell_type": "code",
   "execution_count": 30,
   "id": "07d548bd",
   "metadata": {},
   "outputs": [],
   "source": [
    "deals.drop(columns='SLA', inplace=True)"
   ]
  },
  {
   "cell_type": "code",
   "execution_count": null,
   "id": "f63c95a6",
   "metadata": {},
   "outputs": [],
   "source": []
  },
  {
   "cell_type": "code",
   "execution_count": 31,
   "id": "690fdbb4",
   "metadata": {},
   "outputs": [
    {
     "data": {
      "text/plain": [
       "Stage\n",
       "Lost                         15743\n",
       "Call Delayed                  2248\n",
       "Registered on Webinar         2072\n",
       "Payment Done                   858\n",
       "Waiting For Payment            325\n",
       "Qualificated                   128\n",
       "Registered on Offline Day      100\n",
       "Need to Call - Sales            33\n",
       "Need To Call                    31\n",
       "Test Sent                       25\n",
       "Need a consultation             23\n",
       "New Lead                         6\n",
       "Free Education                   1\n",
       "Name: count, dtype: int64"
      ]
     },
     "execution_count": 31,
     "metadata": {},
     "output_type": "execute_result"
    }
   ],
   "source": [
    "deals['Stage'].value_counts()"
   ]
  },
  {
   "cell_type": "code",
   "execution_count": 32,
   "id": "51feb5b9",
   "metadata": {},
   "outputs": [
    {
     "data": {
      "text/plain": [
       "Lost Reason\n",
       "Doesn't Answer                             4135\n",
       "Changed Decision                           2146\n",
       "Duplicate                                  1771\n",
       "Non target                                 1761\n",
       "Stopped Answering                          1588\n",
       "Invalid number                             1481\n",
       "needs time to think                         655\n",
       "Expensive                                   626\n",
       "Conditions are not suitable                 531\n",
       "Next stream                                 288\n",
       "Inadequate                                  176\n",
       "Gutstein refusal                            172\n",
       "Considering a different direction in IT     148\n",
       "Not for myself                              145\n",
       "Does not speak English                      138\n",
       "Didn't leave an application                 133\n",
       "Thought for free                            110\n",
       "Does not know how to use a computer          50\n",
       "Went to Rivals                               48\n",
       "The contract did not fit                     21\n",
       "Refugee                                       1\n",
       "Name: count, dtype: int64"
      ]
     },
     "execution_count": 32,
     "metadata": {},
     "output_type": "execute_result"
    }
   ],
   "source": [
    "deals['Lost Reason'].value_counts()"
   ]
  },
  {
   "cell_type": "code",
   "execution_count": 33,
   "id": "9fe446b0",
   "metadata": {},
   "outputs": [
    {
     "data": {
      "text/plain": [
       "Page\n",
       "/eng                         5814\n",
       "eng/digital-marketing        4552\n",
       "/eng/test                    2996\n",
       "/workshop                    1162\n",
       "/webinar                     1130\n",
       "/                            1082\n",
       "/direct                      1076\n",
       "/eng/ux-ui                   1058\n",
       "/web-developer                658\n",
       "/email                        462\n",
       "/pl-eng                       446\n",
       "/event                        325\n",
       "/at-eng                       224\n",
       "/account                      116\n",
       "eng/web-developer             105\n",
       "/pl-eng/web-developer          94\n",
       "/test                          42\n",
       "/at-end/web-developer          37\n",
       "/eng/career                    36\n",
       "/digital-marketing             33\n",
       "/offer                         27\n",
       "/specialoffer                  25\n",
       "/pl-eng/digital-marketing      21\n",
       "/at-eng/digital-marketing      19\n",
       "/ppc                           12\n",
       "/smm                           11\n",
       "/ux-ui                          9\n",
       "/at-ru/ux/ui                    7\n",
       "/course                         7\n",
       "/page                           2\n",
       "/pl-eng/ux-ui                   2\n",
       "/welcomepage                    1\n",
       "/at/digital-marketing           1\n",
       "/page1                          1\n",
       "Name: count, dtype: int64"
      ]
     },
     "execution_count": 33,
     "metadata": {},
     "output_type": "execute_result"
    }
   ],
   "source": [
    "deals['Page'].value_counts()"
   ]
  },
  {
   "cell_type": "code",
   "execution_count": 34,
   "id": "50bb578c",
   "metadata": {},
   "outputs": [
    {
     "data": {
      "text/plain": [
       "Payment Type\n",
       "Recurring Payments    350\n",
       "One Payment           141\n",
       "Reservation             5\n",
       "Name: count, dtype: int64"
      ]
     },
     "execution_count": 34,
     "metadata": {},
     "output_type": "execute_result"
    }
   ],
   "source": [
    "deals['Payment Type'].value_counts()"
   ]
  },
  {
   "cell_type": "code",
   "execution_count": 35,
   "id": "51a62398",
   "metadata": {},
   "outputs": [
    {
     "data": {
      "text/plain": [
       "Product\n",
       "Digital Marketing      1990\n",
       "UX/UI Design           1022\n",
       "Web Developer           575\n",
       "Find yourself in IT       4\n",
       "Data Analytics            1\n",
       "Name: count, dtype: int64"
      ]
     },
     "execution_count": 35,
     "metadata": {},
     "output_type": "execute_result"
    }
   ],
   "source": [
    "deals['Product'].value_counts()"
   ]
  },
  {
   "cell_type": "code",
   "execution_count": 36,
   "id": "d1c690b2",
   "metadata": {},
   "outputs": [
    {
     "data": {
      "text/plain": [
       "Education Type\n",
       "Morning    2895\n",
       "Evening     404\n",
       "Name: count, dtype: int64"
      ]
     },
     "execution_count": 36,
     "metadata": {},
     "output_type": "execute_result"
    }
   ],
   "source": [
    "deals['Education Type'].value_counts()"
   ]
  },
  {
   "cell_type": "code",
   "execution_count": 37,
   "id": "6f22f0a2",
   "metadata": {},
   "outputs": [
    {
     "data": {
      "text/plain": [
       "Course duration\n",
       "11    3012\n",
       "6      575\n",
       "Name: count, dtype: Int64"
      ]
     },
     "execution_count": 37,
     "metadata": {},
     "output_type": "execute_result"
    }
   ],
   "source": [
    "deals['Course duration'].value_counts()"
   ]
  },
  {
   "cell_type": "code",
   "execution_count": 38,
   "id": "f3f5430f",
   "metadata": {},
   "outputs": [
    {
     "data": {
      "text/plain": [
       "Months of study\n",
       "6     107\n",
       "2     104\n",
       "3      94\n",
       "4      93\n",
       "8      83\n",
       "7      79\n",
       "1      67\n",
       "5      64\n",
       "9      61\n",
       "11     45\n",
       "10     42\n",
       "0       1\n",
       "Name: count, dtype: Int64"
      ]
     },
     "execution_count": 38,
     "metadata": {},
     "output_type": "execute_result"
    }
   ],
   "source": [
    "deals['Months of study'].value_counts()"
   ]
  },
  {
   "cell_type": "code",
   "execution_count": 39,
   "id": "47309700",
   "metadata": {},
   "outputs": [
    {
     "data": {
      "text/plain": [
       "(839, 23)"
      ]
     },
     "execution_count": 39,
     "metadata": {},
     "output_type": "execute_result"
    }
   ],
   "source": [
    "deals[deals['Months of study']>0].shape"
   ]
  },
  {
   "cell_type": "code",
   "execution_count": 40,
   "id": "a664427d",
   "metadata": {},
   "outputs": [
    {
     "data": {
      "text/plain": [
       "Campaign\n",
       "performancemax_digitalmarkt_ru_DE    2653\n",
       "youtube_shorts_DE                    1635\n",
       "12.07.2023wide_DE                    1575\n",
       "02.07.23wide_DE                       975\n",
       "04.07.23recentlymoved_DE              750\n",
       "03.07.23women                         612\n",
       "Dis_DE                                581\n",
       "07.07.23LAL_DE                        542\n",
       "12.09.23interests_Uxui_DE             531\n",
       "24.09.23retargeting_DE                479\n",
       "webinar1604                           343\n",
       "work_DE                               317\n",
       "webinar1906                           290\n",
       "08.04.24wide_webinar_DE               284\n",
       "blog2_DE                              273\n",
       "1performancemax_wide_PL               261\n",
       "BloggerShina_DE                       246\n",
       "performancemax_eng_DE                 245\n",
       "brand_search_eng_DE                   168\n",
       "web2408_DE                            158\n",
       "bbo_DE                                154\n",
       "mu_DE                                 151\n",
       "15.07.23b_DE                          139\n",
       "performancemax_wide_AT                124\n",
       "20.03.2024wide_PL                     121\n",
       "02.05.24test_DE                       121\n",
       "08.06.24wide_webinar_DE               112\n",
       "ASA_de_DE                             112\n",
       "14.11.23wide_webinar_DE               109\n",
       "web2211_DE                            108\n",
       "discovery_DE                           94\n",
       "22.05.2024wide_DE                      72\n",
       "jet_DE                                 70\n",
       "discovery_wide1_AT                     62\n",
       "20.03.24_widde_PL                      59\n",
       "talav_DE                               57\n",
       "anastasia_de_DE                        49\n",
       "workingin_DE                           48\n",
       "1005start                              47\n",
       "20.05.24interests_DE                   42\n",
       "18.10.23wide_gos_DE                    42\n",
       "engwien_AT                             38\n",
       "Trigger_DE                             38\n",
       "05.07.23interests_DE                   37\n",
       "17.03.24wide_AT                        37\n",
       "Bloggernina_DE                         37\n",
       "20.03.24interests_WebDev_PL            35\n",
       "gen_analyst_DE                         35\n",
       "euro_DE                                32\n",
       "01.04.23women_PL                       31\n",
       "2905start                              30\n",
       "karta_DE                               30\n",
       "chat_DE                                29\n",
       "1704start                              28\n",
       "Live_DE                                27\n",
       "berlin_DE                              26\n",
       "bloggerfrai_DE                         25\n",
       "BloggerIvan                            24\n",
       "arina_DE                               24\n",
       "1406start                              24\n",
       "09.02.24berlin_dd_DE                   22\n",
       "24.07.2023wide_DE                      22\n",
       "Blogff_DE                              22\n",
       "2004start                              21\n",
       "1006start                              19\n",
       "1706_DE                                19\n",
       "tyk_DE                                 18\n",
       "Bloggerel_DE                           18\n",
       "of_DE                                  15\n",
       "germany_DE                             15\n",
       "uk_DE                                  14\n",
       "hb_DE                                  14\n",
       "youtube_shortsin_AT                    14\n",
       "hands_DE                               14\n",
       "26.10start                             14\n",
       "yo_DE                                  13\n",
       "bf_DE                                  13\n",
       "price_DE                               12\n",
       "Genie_DE                               12\n",
       "15.03.2024wide_AT                      11\n",
       "Blogger_snezh_DE                       11\n",
       "web1312_DE                             11\n",
       "1004start                              11\n",
       "pl_com                                 10\n",
       "web2311_DE                             10\n",
       "2day_DE                                10\n",
       "podslush_DE                            10\n",
       "germania_DE                            10\n",
       "20.05.24wide_DE                         8\n",
       "blog_de_DE                              8\n",
       "29.11start                              8\n",
       "02.08.23interests_DE                    8\n",
       "15.04.24LAL_ab__PL                      7\n",
       "podrugi_DE                              7\n",
       "Jobs_germany_DE                         7\n",
       "Consult_DE                              7\n",
       "uk12_AT                                 7\n",
       "Akademia                                7\n",
       "20.03.24interests_WebDev_AT             7\n",
       "LOST_de                                 7\n",
       "Relocat_DE                              7\n",
       "Aussiedler_DE                           6\n",
       "Forum_DE                                6\n",
       "bloggerdr_DE                            6\n",
       "05.09.2023wide_DE                       6\n",
       "web8_DE                                 6\n",
       "magda_DE                                6\n",
       "work_wr                                 6\n",
       "pishet_DE                               6\n",
       "2005_Lost_DE                            6\n",
       "col_DE                                  6\n",
       "ineng_DE                                5\n",
       "mail_3                                  5\n",
       "PL_life                                 5\n",
       "5555_DE                                 5\n",
       "forum_DE                                5\n",
       "warsaw_PL                               5\n",
       "10.07.23wide_com_DE                     5\n",
       "12.06.24wide_DE                         4\n",
       "liveberlin_DE                           4\n",
       "mailreg_DE                              4\n",
       "blog_DE                                 3\n",
       "potsdam                                 3\n",
       "shorts_PL                               3\n",
       "clever_DE                               3\n",
       "adv_DE                                  3\n",
       "wa_PL                                   3\n",
       "referral                                3\n",
       "11.10_prizes_DE                         2\n",
       "nochtum_DE                              2\n",
       "Berlin_DE                               2\n",
       "Markt_DE                                2\n",
       "Kak_PL                                  2\n",
       "webanons                                2\n",
       "maria_DE                                2\n",
       "welt_DE                                 2\n",
       "ggg10_DE                                2\n",
       "BVRE                                    2\n",
       "Bloggerperr_DE                          2\n",
       "sushechka_PL                            2\n",
       "mail_DE                                 2\n",
       "lviv_DE                                 2\n",
       "ruslana_DE                              2\n",
       "marue_DE                                1\n",
       "Bolgspeak_DE                            1\n",
       "comp_search_DE                          1\n",
       "hanna                                   1\n",
       "grad_DE                                 1\n",
       "eha_DE                                  1\n",
       "anuta_DE                                1\n",
       "women_DE                                1\n",
       "domain                                  1\n",
       "nina                                    1\n",
       "web2410_DE                              1\n",
       "Name: count, dtype: int64"
      ]
     },
     "execution_count": 40,
     "metadata": {},
     "output_type": "execute_result"
    }
   ],
   "source": [
    "deals['Campaign'].value_counts()"
   ]
  },
  {
   "cell_type": "code",
   "execution_count": 41,
   "id": "07578b4c",
   "metadata": {},
   "outputs": [
    {
     "data": {
      "text/plain": [
       "Term\n",
       "wide                                                                        3675\n",
       "Com_august                                                                  1529\n",
       "recentlymoved                                                                757\n",
       "women                                                                        643\n",
       "LAL1                                                                         548\n",
       "retargeting                                                                  479\n",
       "invitation                                                                   453\n",
       "interest_work_WebDev                                                         315\n",
       "interest_programming_WebDev                                                  259\n",
       "b                                                                            147\n",
       "it career hub                                                                139\n",
       "accountant_wide                                                              121\n",
       "1_day_before                                                                 107\n",
       "1_05_2024                                                                    105\n",
       "26_01_2024                                                                    92\n",
       "20_10_2023                                                                    91\n",
       "allcomABC                                                                     87\n",
       "07_02_2024                                                                    84\n",
       "Com_july_1                                                                    83\n",
       "15_01_2024                                                                    82\n",
       "allthinking lost                                                              77\n",
       "19_02_2024                                                                    63\n",
       "30_01_2024                                                                    60\n",
       "31_05_2024                                                                    57\n",
       "04_03_2024                                                                    57\n",
       "29_03_2024                                                                    57\n",
       "14_11_2023                                                                    56\n",
       "30_05_2024                                                                    56\n",
       "19_07_2023                                                                    56\n",
       "16_04_2024                                                                    55\n",
       "interest_work                                                                 52\n",
       "05_10_2023                                                                    51\n",
       "18_12_2023                                                                    51\n",
       "19_03_2024                                                                    45\n",
       "22_04_2024                                                                    45\n",
       "22_02_2024                                                                    44\n",
       "24_01_2024                                                                    42\n",
       "13_09_2023                                                                    41\n",
       "_                                                                             37\n",
       "14_12_2023                                                                    34\n",
       "invitation\\                                                                   33\n",
       "21_11_2023                                                                    32\n",
       "28_05_2024                                                                    31\n",
       "qual_com lost                                                                 31\n",
       "interest_programming                                                          30\n",
       "day_2                                                                         29\n",
       "12_04_2024                                                                    29\n",
       "04_09_2023                                                                    27\n",
       "20_09_2023                                                                    27\n",
       "06_03_2024                                                                    26\n",
       "13_11_2023                                                                    26\n",
       "21_08_2023                                                                    26\n",
       "29_02_2024                                                                    25\n",
       "11_12_2023                                                                    25\n",
       "16_02_2024                                                                    25\n",
       "allcomlost                                                                    23\n",
       "06_09_2023                                                                    23\n",
       "24_08_2023                                                                    22\n",
       "15_04_2024                                                                    22\n",
       "berlin_wide                                                                   22\n",
       "06_12_2023                                                                    21\n",
       "22_01_2024                                                                    21\n",
       "16_05_2024                                                                    20\n",
       "21_12_2023                                                                    19\n",
       "18_03_2024                                                                    19\n",
       "wide_python-developer                                                         18\n",
       "23_02_2024                                                                    18\n",
       "11_01_2024                                                                    18\n",
       "07_12_2023                                                                    18\n",
       "06_11_2023                                                                    18\n",
       "Com_march                                                                     17\n",
       "27_03_2024                                                                    17\n",
       "21_05_2024                                                                    17\n",
       "03_06_2024                                                                    17\n",
       "13_10_2023                                                                    16\n",
       "01_11_2023                                                                    16\n",
       "14_03_2024                                                                    16\n",
       "15_08_2023                                                                    16\n",
       "29_04_2024                                                                    15\n",
       "11_03_2024                                                                    15\n",
       "10_11_2023                                                                    14\n",
       "qual lost                                                                     14\n",
       "10_10_2023                                                                    14\n",
       "13_05_2024                                                                    14\n",
       "Com_and_gov                                                                   13\n",
       "04_08_2023                                                                    13\n",
       "14_05_2024                                                                    13\n",
       "ntc_lost                                                                      12\n",
       "06_05_2024                                                                    12\n",
       "itcareerhub                                                                   12\n",
       "14_02_2024                                                                    12\n",
       "23_05_2024                                                                    12\n",
       "17_07_2023                                                                    12\n",
       "10_05_2024                                                                    12\n",
       "04_12_2023                                                                    12\n",
       "18_05_2024                                                                    12\n",
       "07_06_2024                                                                    12\n",
       "03_05_2024                                                                    12\n",
       "qual                                                                          11\n",
       "wide_qa-engineer                                                              11\n",
       "wide_webdesigner                                                              11\n",
       "15_09_2023                                                                    10\n",
       "15_11_2023                                                                    10\n",
       "24_09_2023                                                                    10\n",
       "09_10_2023                                                                    10\n",
       "22_11_2023                                                                    10\n",
       "12_07_2023                                                                    10\n",
       "18_07_2023                                                                    10\n",
       "17_01_2024                                                                    10\n",
       "05_03_2024                                                                    10\n",
       "06_04_2024                                                                    10\n",
       "05_02_2024                                                                    10\n",
       "09_01_2024                                                                     9\n",
       "16_08_2023                                                                     8\n",
       "17_10_2023                                                                     8\n",
       "12_03_2024                                                                     8\n",
       "23_01_2024                                                                     8\n",
       "interest_all                                                                   8\n",
       "all                                                                            7\n",
       "22_05_2024                                                                     7\n",
       "19_12_2023                                                                     7\n",
       "23_12_2023                                                                     7\n",
       "01_04_2024                                                                     7\n",
       "10_04_2024                                                                     7\n",
       "it hub                                                                         7\n",
       "lost_does_not_answer                                                           7\n",
       "22_12_2023                                                                     6\n",
       "курсы аналитик данных                                                          6\n",
       "05_06_2024                                                                     6\n",
       "01_02_2024                                                                     6\n",
       "data analyst                                                                   6\n",
       "15_05_2024                                                                     6\n",
       "registered                                                                     6\n",
       "27_05_2024                                                                     6\n",
       "02_04_2024                                                                     6\n",
       "29_05_2024                                                                     6\n",
       "13_12_2023                                                                     6\n",
       "03_01_2024                                                                     6\n",
       "14_06_2024                                                                     5\n",
       "12_06_2024                                                                     5\n",
       "13_02_2024                                                                     5\n",
       "19_06_2024                                                                     5\n",
       "12_01_2024                                                                     5\n",
       "06_02_2024                                                                     5\n",
       "08_12_2023                                                                     5\n",
       "23_11_2023                                                                     5\n",
       "17_04_2024                                                                     5\n",
       "10_08_2023                                                                     4\n",
       "it%20career%20hub                                                              4\n",
       "21_01_2024                                                                     4\n",
       "курсы аналитика                                                                4\n",
       "20_04_2024                                                                     4\n",
       "ich                                                                            4\n",
       "28_01_2024                                                                     4\n",
       "28_02_2024                                                                     4\n",
       "21_07_2023                                                                     4\n",
       "18_06_2024                                                                     4\n",
       "07_03_2024                                                                     4\n",
       "10_03_2024                                                                     4\n",
       "16_01_2024                                                                     4\n",
       "10_01_2024                                                                     4\n",
       "15_03_2024                                                                     3\n",
       "19_10_2023                                                                     3\n",
       "data analyst курсы                                                             3\n",
       "09_04_2024                                                                     3\n",
       "31_10_2023                                                                     3\n",
       "02_02_2024                                                                     3\n",
       "data analysis analytics                                                        2\n",
       "24_11_2023                                                                     2\n",
       "01_08_2023                                                                     2\n",
       "курсы аналитика с нуля                                                         2\n",
       "04_06_2024                                                                     2\n",
       "04_10_2023                                                                     2\n",
       "01_10_2023                                                                     2\n",
       "31_01_2024                                                                     2\n",
       "20_03_2024                                                                     2\n",
       "12_05_2024                                                                     2\n",
       "qual_Com_3_days                                                                2\n",
       "дата аналитик это                                                              2\n",
       "01_03_2024                                                                     2\n",
       "21_06_2024                                                                     2\n",
       "14_08_2023                                                                     2\n",
       "24_04_2024                                                                     2\n",
       "07_10_2023                                                                     2\n",
       "25_01_2024                                                                     1\n",
       "13_01_2024                                                                     1\n",
       "айти карьер хаб                                                                1\n",
       "01_09_2023                                                                     1\n",
       "13_06_2024                                                                     1\n",
       "it career hub_                                                                 1\n",
       "09_08_2023                                                                     1\n",
       "geekbrains                                                                     1\n",
       "19_07_2024                                                                     1\n",
       "07_08_2023                                                                     1\n",
       "курсы data analyst                                                             1\n",
       "дата аналитика                                                                 1\n",
       "обучение на аналитика данных                                                   1\n",
       "120202614050220341                                                             1\n",
       "18_01_2024                                                                     1\n",
       "17_02_2024                                                                     1\n",
       "11_01_2023                                                                     1\n",
       "13_03_2024                                                                     1\n",
       "21_03_2024                                                                     1\n",
       "recentlymovedhttps://itcareerhub.de/ru/questionnaire?utm_source=facebook       1\n",
       "29_11_2023                                                                     1\n",
       "аналитик данных обучение                                                       1\n",
       "09_11_2023                                                                     1\n",
       "01_05_2024                                                                     1\n",
       "аналитика данных с нуля                                                        1\n",
       "курсы по дата аналитике                                                        1\n",
       "08_11_2023                                                                     1\n",
       "23_04_2024                                                                     1\n",
       "29_10_2023                                                                     1\n",
       "27_10_2023                                                                     1\n",
       "дата аналитик курсы                                                            1\n",
       "аналитик в it обучение                                                         1\n",
       "26_10_2023                                                                     1\n",
       "аналитиквitобучение                                                            1\n",
       "24_10_2023                                                                     1\n",
       "data analyst обучение                                                          1\n",
       "Name: count, dtype: int64"
      ]
     },
     "execution_count": 41,
     "metadata": {},
     "output_type": "execute_result"
    }
   ],
   "source": [
    "deals['Term'].value_counts()"
   ]
  },
  {
   "cell_type": "code",
   "execution_count": 42,
   "id": "8c3b6756",
   "metadata": {},
   "outputs": [
    {
     "data": {
      "text/plain": [
       "Source\n",
       "Facebook Ads      4850\n",
       "Google Ads        4226\n",
       "Organic           2590\n",
       "Tiktok Ads        2051\n",
       "SMM               1730\n",
       "Youtube Ads       1657\n",
       "CRM               1656\n",
       "Bloggers          1089\n",
       "Telegram posts    1001\n",
       "Webinar            379\n",
       "Partnership        203\n",
       "Test               159\n",
       "Offline              2\n",
       "Name: count, dtype: int64"
      ]
     },
     "execution_count": 42,
     "metadata": {},
     "output_type": "execute_result"
    }
   ],
   "source": [
    "deals['Source'].value_counts()"
   ]
  },
  {
   "cell_type": "code",
   "execution_count": null,
   "id": "6577797e",
   "metadata": {},
   "outputs": [],
   "source": []
  },
  {
   "cell_type": "code",
   "execution_count": null,
   "id": "e2bfb602",
   "metadata": {},
   "outputs": [],
   "source": []
  },
  {
   "cell_type": "markdown",
   "id": "a37d68f6",
   "metadata": {},
   "source": [
    "### Проверка дубликатов\n",
    "\n",
    "**contacts**"
   ]
  },
  {
   "cell_type": "code",
   "execution_count": 43,
   "id": "ab018263",
   "metadata": {},
   "outputs": [
    {
     "name": "stdout",
     "output_type": "stream",
     "text": [
      "Дубликатов в contacts: 0\n"
     ]
    }
   ],
   "source": [
    "print('Дубликатов в contacts:', contacts.duplicated().sum())"
   ]
  },
  {
   "cell_type": "markdown",
   "id": "beaf8e39",
   "metadata": {},
   "source": [
    "**calls**"
   ]
  },
  {
   "cell_type": "code",
   "execution_count": 44,
   "id": "24fab216",
   "metadata": {},
   "outputs": [],
   "source": [
    "cols_calls = list(calls.columns)\n",
    "cols_calls.remove('Id')"
   ]
  },
  {
   "cell_type": "code",
   "execution_count": 45,
   "id": "662c3aa1",
   "metadata": {},
   "outputs": [
    {
     "name": "stdout",
     "output_type": "stream",
     "text": [
      "Дубликатов в calls: 3257\n"
     ]
    }
   ],
   "source": [
    "print('Дубликатов в calls:', calls[cols_calls].duplicated().sum())"
   ]
  },
  {
   "cell_type": "code",
   "execution_count": 46,
   "id": "212fcfcc",
   "metadata": {},
   "outputs": [],
   "source": [
    "calls.drop_duplicates(subset=cols_calls, inplace=True)"
   ]
  },
  {
   "cell_type": "markdown",
   "id": "4701a80a",
   "metadata": {},
   "source": [
    "**spend**"
   ]
  },
  {
   "cell_type": "code",
   "execution_count": 47,
   "id": "e98ba8df",
   "metadata": {},
   "outputs": [],
   "source": [
    "spend = spend.sort_values(by=['Date', 'Source'])"
   ]
  },
  {
   "cell_type": "code",
   "execution_count": 48,
   "id": "40925bd9",
   "metadata": {},
   "outputs": [
    {
     "name": "stdout",
     "output_type": "stream",
     "text": [
      "Дубликатов в spend: 917\n"
     ]
    }
   ],
   "source": [
    "print('Дубликатов в spend:', spend.duplicated().sum())"
   ]
  },
  {
   "cell_type": "markdown",
   "id": "89537fe8",
   "metadata": {},
   "source": [
    "Мы видим, что есть дубликаты. Но пока непонятно, может ли быть несколько строк в один день. Посмотрим более детально."
   ]
  },
  {
   "cell_type": "code",
   "execution_count": 49,
   "id": "f8377c7b",
   "metadata": {},
   "outputs": [
    {
     "data": {
      "text/html": [
       "<div>\n",
       "<style scoped>\n",
       "    .dataframe tbody tr th:only-of-type {\n",
       "        vertical-align: middle;\n",
       "    }\n",
       "\n",
       "    .dataframe tbody tr th {\n",
       "        vertical-align: top;\n",
       "    }\n",
       "\n",
       "    .dataframe thead th {\n",
       "        text-align: right;\n",
       "    }\n",
       "</style>\n",
       "<table border=\"1\" class=\"dataframe\">\n",
       "  <thead>\n",
       "    <tr style=\"text-align: right;\">\n",
       "      <th></th>\n",
       "      <th>Date</th>\n",
       "      <th>Source</th>\n",
       "      <th>Campaign</th>\n",
       "      <th>Impressions</th>\n",
       "      <th>Spend</th>\n",
       "      <th>Clicks</th>\n",
       "      <th>AdGroup</th>\n",
       "      <th>Ad</th>\n",
       "    </tr>\n",
       "  </thead>\n",
       "  <tbody>\n",
       "    <tr>\n",
       "      <th>13828</th>\n",
       "      <td>2024-03-28</td>\n",
       "      <td>SMM</td>\n",
       "      <td>NaN</td>\n",
       "      <td>0</td>\n",
       "      <td>0.0</td>\n",
       "      <td>4</td>\n",
       "      <td>NaN</td>\n",
       "      <td>NaN</td>\n",
       "    </tr>\n",
       "    <tr>\n",
       "      <th>13844</th>\n",
       "      <td>2024-03-28</td>\n",
       "      <td>SMM</td>\n",
       "      <td>NaN</td>\n",
       "      <td>0</td>\n",
       "      <td>0.0</td>\n",
       "      <td>4</td>\n",
       "      <td>NaN</td>\n",
       "      <td>NaN</td>\n",
       "    </tr>\n",
       "    <tr>\n",
       "      <th>15125</th>\n",
       "      <td>2024-04-11</td>\n",
       "      <td>SMM</td>\n",
       "      <td>NaN</td>\n",
       "      <td>0</td>\n",
       "      <td>0.0</td>\n",
       "      <td>1</td>\n",
       "      <td>NaN</td>\n",
       "      <td>NaN</td>\n",
       "    </tr>\n",
       "    <tr>\n",
       "      <th>15129</th>\n",
       "      <td>2024-04-11</td>\n",
       "      <td>SMM</td>\n",
       "      <td>NaN</td>\n",
       "      <td>0</td>\n",
       "      <td>0.0</td>\n",
       "      <td>1</td>\n",
       "      <td>NaN</td>\n",
       "      <td>NaN</td>\n",
       "    </tr>\n",
       "    <tr>\n",
       "      <th>16187</th>\n",
       "      <td>2024-04-22</td>\n",
       "      <td>SMM</td>\n",
       "      <td>NaN</td>\n",
       "      <td>0</td>\n",
       "      <td>0.0</td>\n",
       "      <td>1</td>\n",
       "      <td>NaN</td>\n",
       "      <td>NaN</td>\n",
       "    </tr>\n",
       "    <tr>\n",
       "      <th>16190</th>\n",
       "      <td>2024-04-22</td>\n",
       "      <td>SMM</td>\n",
       "      <td>NaN</td>\n",
       "      <td>0</td>\n",
       "      <td>0.0</td>\n",
       "      <td>1</td>\n",
       "      <td>NaN</td>\n",
       "      <td>NaN</td>\n",
       "    </tr>\n",
       "  </tbody>\n",
       "</table>\n",
       "</div>"
      ],
      "text/plain": [
       "            Date Source Campaign  Impressions  Spend  Clicks AdGroup   Ad\n",
       "13828 2024-03-28    SMM      NaN            0    0.0       4     NaN  NaN\n",
       "13844 2024-03-28    SMM      NaN            0    0.0       4     NaN  NaN\n",
       "15125 2024-04-11    SMM      NaN            0    0.0       1     NaN  NaN\n",
       "15129 2024-04-11    SMM      NaN            0    0.0       1     NaN  NaN\n",
       "16187 2024-04-22    SMM      NaN            0    0.0       1     NaN  NaN\n",
       "16190 2024-04-22    SMM      NaN            0    0.0       1     NaN  NaN"
      ]
     },
     "execution_count": 49,
     "metadata": {},
     "output_type": "execute_result"
    }
   ],
   "source": [
    "spend[(spend.duplicated(keep=False)) & (spend['Clicks'] > 0)].head(6)"
   ]
  },
  {
   "cell_type": "markdown",
   "id": "d91f5a9f",
   "metadata": {},
   "source": [
    "Проверим, бывают ли в один день одинаковые строки по SMM и Organic, но с разным кол-вом кликов."
   ]
  },
  {
   "cell_type": "code",
   "execution_count": 50,
   "id": "f1b34eb5",
   "metadata": {},
   "outputs": [
    {
     "data": {
      "text/html": [
       "<div>\n",
       "<style scoped>\n",
       "    .dataframe tbody tr th:only-of-type {\n",
       "        vertical-align: middle;\n",
       "    }\n",
       "\n",
       "    .dataframe tbody tr th {\n",
       "        vertical-align: top;\n",
       "    }\n",
       "\n",
       "    .dataframe thead th {\n",
       "        text-align: right;\n",
       "    }\n",
       "</style>\n",
       "<table border=\"1\" class=\"dataframe\">\n",
       "  <thead>\n",
       "    <tr style=\"text-align: right;\">\n",
       "      <th></th>\n",
       "      <th>Date</th>\n",
       "      <th>Source</th>\n",
       "      <th>Clicks</th>\n",
       "      <th>Spend</th>\n",
       "    </tr>\n",
       "  </thead>\n",
       "  <tbody>\n",
       "    <tr>\n",
       "      <th>520</th>\n",
       "      <td>2024-03-19</td>\n",
       "      <td>Organic</td>\n",
       "      <td>2</td>\n",
       "      <td>2</td>\n",
       "    </tr>\n",
       "    <tr>\n",
       "      <th>521</th>\n",
       "      <td>2024-03-19</td>\n",
       "      <td>SMM</td>\n",
       "      <td>2</td>\n",
       "      <td>2</td>\n",
       "    </tr>\n",
       "    <tr>\n",
       "      <th>522</th>\n",
       "      <td>2024-03-20</td>\n",
       "      <td>Organic</td>\n",
       "      <td>2</td>\n",
       "      <td>2</td>\n",
       "    </tr>\n",
       "    <tr>\n",
       "      <th>523</th>\n",
       "      <td>2024-03-20</td>\n",
       "      <td>SMM</td>\n",
       "      <td>2</td>\n",
       "      <td>2</td>\n",
       "    </tr>\n",
       "    <tr>\n",
       "      <th>524</th>\n",
       "      <td>2024-03-21</td>\n",
       "      <td>Organic</td>\n",
       "      <td>2</td>\n",
       "      <td>2</td>\n",
       "    </tr>\n",
       "  </tbody>\n",
       "</table>\n",
       "</div>"
      ],
      "text/plain": [
       "          Date   Source  Clicks  Spend\n",
       "520 2024-03-19  Organic       2      2\n",
       "521 2024-03-19      SMM       2      2\n",
       "522 2024-03-20  Organic       2      2\n",
       "523 2024-03-20      SMM       2      2\n",
       "524 2024-03-21  Organic       2      2"
      ]
     },
     "execution_count": 50,
     "metadata": {},
     "output_type": "execute_result"
    }
   ],
   "source": [
    "# Группируем данные по 'Date' и 'Source' и считаем количество уникальных значений в колонке 'Clicks'\n",
    "grouped = spend[(spend['Source'].isin(['SMM', 'Organic']))&(spend['Impressions']==0)].groupby(['Date', 'Source']).agg({\n",
    "    'Clicks': 'nunique',\n",
    "    'Spend': 'size'  # Подсчет количества строк в каждой группе\n",
    "}).reset_index()\n",
    "\n",
    "# Оставляем только те группы, где количество уникальных значений в 'Clicks' больше 1\n",
    "groups_with_diff_clicks = grouped[grouped['Clicks'] > 1]\n",
    "\n",
    "groups_with_diff_clicks.head()"
   ]
  },
  {
   "cell_type": "code",
   "execution_count": 51,
   "id": "37c788f0",
   "metadata": {},
   "outputs": [
    {
     "data": {
      "text/html": [
       "<div>\n",
       "<style scoped>\n",
       "    .dataframe tbody tr th:only-of-type {\n",
       "        vertical-align: middle;\n",
       "    }\n",
       "\n",
       "    .dataframe tbody tr th {\n",
       "        vertical-align: top;\n",
       "    }\n",
       "\n",
       "    .dataframe thead th {\n",
       "        text-align: right;\n",
       "    }\n",
       "</style>\n",
       "<table border=\"1\" class=\"dataframe\">\n",
       "  <thead>\n",
       "    <tr style=\"text-align: right;\">\n",
       "      <th></th>\n",
       "      <th>Date</th>\n",
       "      <th>Source</th>\n",
       "      <th>Campaign</th>\n",
       "      <th>Impressions</th>\n",
       "      <th>Spend</th>\n",
       "      <th>Clicks</th>\n",
       "      <th>AdGroup</th>\n",
       "      <th>Ad</th>\n",
       "    </tr>\n",
       "  </thead>\n",
       "  <tbody>\n",
       "    <tr>\n",
       "      <th>13154</th>\n",
       "      <td>2024-03-19</td>\n",
       "      <td>Organic</td>\n",
       "      <td>NaN</td>\n",
       "      <td>0</td>\n",
       "      <td>0.0</td>\n",
       "      <td>201</td>\n",
       "      <td>NaN</td>\n",
       "      <td>NaN</td>\n",
       "    </tr>\n",
       "    <tr>\n",
       "      <th>13161</th>\n",
       "      <td>2024-03-19</td>\n",
       "      <td>Organic</td>\n",
       "      <td>NaN</td>\n",
       "      <td>0</td>\n",
       "      <td>0.0</td>\n",
       "      <td>18</td>\n",
       "      <td>NaN</td>\n",
       "      <td>NaN</td>\n",
       "    </tr>\n",
       "    <tr>\n",
       "      <th>13155</th>\n",
       "      <td>2024-03-19</td>\n",
       "      <td>SMM</td>\n",
       "      <td>NaN</td>\n",
       "      <td>0</td>\n",
       "      <td>0.0</td>\n",
       "      <td>7</td>\n",
       "      <td>NaN</td>\n",
       "      <td>NaN</td>\n",
       "    </tr>\n",
       "    <tr>\n",
       "      <th>13205</th>\n",
       "      <td>2024-03-19</td>\n",
       "      <td>SMM</td>\n",
       "      <td>NaN</td>\n",
       "      <td>0</td>\n",
       "      <td>0.0</td>\n",
       "      <td>72</td>\n",
       "      <td>NaN</td>\n",
       "      <td>NaN</td>\n",
       "    </tr>\n",
       "  </tbody>\n",
       "</table>\n",
       "</div>"
      ],
      "text/plain": [
       "            Date   Source Campaign  Impressions  Spend  Clicks AdGroup   Ad\n",
       "13154 2024-03-19  Organic      NaN            0    0.0     201     NaN  NaN\n",
       "13161 2024-03-19  Organic      NaN            0    0.0      18     NaN  NaN\n",
       "13155 2024-03-19      SMM      NaN            0    0.0       7     NaN  NaN\n",
       "13205 2024-03-19      SMM      NaN            0    0.0      72     NaN  NaN"
      ]
     },
     "execution_count": 51,
     "metadata": {},
     "output_type": "execute_result"
    }
   ],
   "source": [
    "spend[(spend['Source'].isin(['SMM', 'Organic'])) & (spend['Date'] == '2024-03-19')]"
   ]
  },
  {
   "cell_type": "markdown",
   "id": "cea8ca2a",
   "metadata": {},
   "source": [
    "Мы видим, что один день может быть несколько записей по `SMM`, `Organic`, поэтому даже с одинаковым кол-вом кликов в один день, скорее всего, они не являются дубликатами"
   ]
  },
  {
   "cell_type": "markdown",
   "id": "7d374052",
   "metadata": {},
   "source": [
    "**deals**"
   ]
  },
  {
   "cell_type": "code",
   "execution_count": 52,
   "id": "b49e4882",
   "metadata": {},
   "outputs": [],
   "source": [
    "deals = deals.sort_values(by=['Created Time'])"
   ]
  },
  {
   "cell_type": "code",
   "execution_count": 53,
   "id": "5e94548c",
   "metadata": {},
   "outputs": [],
   "source": [
    "cols_deals = list(deals.columns)\n",
    "cols_deals.remove('Id')"
   ]
  },
  {
   "cell_type": "code",
   "execution_count": 54,
   "id": "cfcaa5d2",
   "metadata": {},
   "outputs": [
    {
     "name": "stdout",
     "output_type": "stream",
     "text": [
      "Дубликатов в deals: 9\n"
     ]
    }
   ],
   "source": [
    "print('Дубликатов в deals:', deals[cols_deals].duplicated().sum())"
   ]
  },
  {
   "cell_type": "code",
   "execution_count": 55,
   "id": "c5eac0d1",
   "metadata": {},
   "outputs": [
    {
     "data": {
      "text/html": [
       "<div>\n",
       "<style scoped>\n",
       "    .dataframe tbody tr th:only-of-type {\n",
       "        vertical-align: middle;\n",
       "    }\n",
       "\n",
       "    .dataframe tbody tr th {\n",
       "        vertical-align: top;\n",
       "    }\n",
       "\n",
       "    .dataframe thead th {\n",
       "        text-align: right;\n",
       "    }\n",
       "</style>\n",
       "<table border=\"1\" class=\"dataframe\">\n",
       "  <thead>\n",
       "    <tr style=\"text-align: right;\">\n",
       "      <th></th>\n",
       "      <th>Id</th>\n",
       "      <th>Deal Owner Name</th>\n",
       "      <th>Closing Date</th>\n",
       "      <th>Quality</th>\n",
       "      <th>Stage</th>\n",
       "      <th>Lost Reason</th>\n",
       "      <th>Page</th>\n",
       "      <th>Campaign</th>\n",
       "      <th>Content</th>\n",
       "      <th>Term</th>\n",
       "      <th>Source</th>\n",
       "      <th>Payment Type</th>\n",
       "      <th>Product</th>\n",
       "      <th>Education Type</th>\n",
       "      <th>Created Time</th>\n",
       "      <th>Course duration</th>\n",
       "      <th>Months of study</th>\n",
       "      <th>Initial Amount Paid</th>\n",
       "      <th>Offer Total Amount</th>\n",
       "      <th>Contact Name</th>\n",
       "      <th>City</th>\n",
       "      <th>Level of Deutsch</th>\n",
       "      <th>SLA Minutes</th>\n",
       "    </tr>\n",
       "  </thead>\n",
       "  <tbody>\n",
       "    <tr>\n",
       "      <th>21549</th>\n",
       "      <td>5805028000001355009</td>\n",
       "      <td>Bob Brown</td>\n",
       "      <td>2023-07-08</td>\n",
       "      <td>E - Non Qualified</td>\n",
       "      <td>Lost</td>\n",
       "      <td>Duplicate</td>\n",
       "      <td>eng/digital-marketing</td>\n",
       "      <td>performancemax_digitalmarkt_ru_DE</td>\n",
       "      <td>_{region_name}_</td>\n",
       "      <td>NaN</td>\n",
       "      <td>Google Ads</td>\n",
       "      <td>NaN</td>\n",
       "      <td>NaN</td>\n",
       "      <td>NaN</td>\n",
       "      <td>2023-07-08 11:39:00</td>\n",
       "      <td>&lt;NA&gt;</td>\n",
       "      <td>&lt;NA&gt;</td>\n",
       "      <td>0</td>\n",
       "      <td>0</td>\n",
       "      <td>5805028000001347003</td>\n",
       "      <td>NaN</td>\n",
       "      <td>NaN</td>\n",
       "      <td>&lt;NA&gt;</td>\n",
       "    </tr>\n",
       "    <tr>\n",
       "      <th>21548</th>\n",
       "      <td>5805028000001369097</td>\n",
       "      <td>Bob Brown</td>\n",
       "      <td>2023-07-08</td>\n",
       "      <td>E - Non Qualified</td>\n",
       "      <td>Lost</td>\n",
       "      <td>Duplicate</td>\n",
       "      <td>eng/digital-marketing</td>\n",
       "      <td>performancemax_digitalmarkt_ru_DE</td>\n",
       "      <td>_{region_name}_</td>\n",
       "      <td>NaN</td>\n",
       "      <td>Google Ads</td>\n",
       "      <td>NaN</td>\n",
       "      <td>NaN</td>\n",
       "      <td>NaN</td>\n",
       "      <td>2023-07-08 11:39:00</td>\n",
       "      <td>&lt;NA&gt;</td>\n",
       "      <td>&lt;NA&gt;</td>\n",
       "      <td>0</td>\n",
       "      <td>0</td>\n",
       "      <td>5805028000001347003</td>\n",
       "      <td>NaN</td>\n",
       "      <td>NaN</td>\n",
       "      <td>&lt;NA&gt;</td>\n",
       "    </tr>\n",
       "    <tr>\n",
       "      <th>21547</th>\n",
       "      <td>5805028000001375082</td>\n",
       "      <td>Kevin Parker</td>\n",
       "      <td>2023-07-08</td>\n",
       "      <td>E - Non Qualified</td>\n",
       "      <td>Lost</td>\n",
       "      <td>Duplicate</td>\n",
       "      <td>eng/digital-marketing</td>\n",
       "      <td>performancemax_digitalmarkt_ru_DE</td>\n",
       "      <td>_{region_name}_</td>\n",
       "      <td>NaN</td>\n",
       "      <td>Google Ads</td>\n",
       "      <td>NaN</td>\n",
       "      <td>NaN</td>\n",
       "      <td>NaN</td>\n",
       "      <td>2023-07-08 13:29:00</td>\n",
       "      <td>&lt;NA&gt;</td>\n",
       "      <td>&lt;NA&gt;</td>\n",
       "      <td>0</td>\n",
       "      <td>0</td>\n",
       "      <td>5805028000001347038</td>\n",
       "      <td>NaN</td>\n",
       "      <td>NaN</td>\n",
       "      <td>&lt;NA&gt;</td>\n",
       "    </tr>\n",
       "    <tr>\n",
       "      <th>21546</th>\n",
       "      <td>5805028000001405002</td>\n",
       "      <td>Kevin Parker</td>\n",
       "      <td>2023-07-08</td>\n",
       "      <td>E - Non Qualified</td>\n",
       "      <td>Lost</td>\n",
       "      <td>Duplicate</td>\n",
       "      <td>eng/digital-marketing</td>\n",
       "      <td>performancemax_digitalmarkt_ru_DE</td>\n",
       "      <td>_{region_name}_</td>\n",
       "      <td>NaN</td>\n",
       "      <td>Google Ads</td>\n",
       "      <td>NaN</td>\n",
       "      <td>NaN</td>\n",
       "      <td>NaN</td>\n",
       "      <td>2023-07-08 13:29:00</td>\n",
       "      <td>&lt;NA&gt;</td>\n",
       "      <td>&lt;NA&gt;</td>\n",
       "      <td>0</td>\n",
       "      <td>0</td>\n",
       "      <td>5805028000001347038</td>\n",
       "      <td>NaN</td>\n",
       "      <td>NaN</td>\n",
       "      <td>&lt;NA&gt;</td>\n",
       "    </tr>\n",
       "    <tr>\n",
       "      <th>21487</th>\n",
       "      <td>5805028000001575064</td>\n",
       "      <td>Bob Brown</td>\n",
       "      <td>2023-07-12</td>\n",
       "      <td>E - Non Qualified</td>\n",
       "      <td>Lost</td>\n",
       "      <td>Duplicate</td>\n",
       "      <td>eng/digital-marketing</td>\n",
       "      <td>performancemax_digitalmarkt_ru_DE</td>\n",
       "      <td>_{region_name}_</td>\n",
       "      <td>NaN</td>\n",
       "      <td>Google Ads</td>\n",
       "      <td>NaN</td>\n",
       "      <td>NaN</td>\n",
       "      <td>NaN</td>\n",
       "      <td>2023-07-12 19:21:00</td>\n",
       "      <td>&lt;NA&gt;</td>\n",
       "      <td>&lt;NA&gt;</td>\n",
       "      <td>0</td>\n",
       "      <td>0</td>\n",
       "      <td>5805028000001552025</td>\n",
       "      <td>NaN</td>\n",
       "      <td>NaN</td>\n",
       "      <td>&lt;NA&gt;</td>\n",
       "    </tr>\n",
       "    <tr>\n",
       "      <th>21486</th>\n",
       "      <td>5805028000001595050</td>\n",
       "      <td>Bob Brown</td>\n",
       "      <td>2023-07-12</td>\n",
       "      <td>E - Non Qualified</td>\n",
       "      <td>Lost</td>\n",
       "      <td>Duplicate</td>\n",
       "      <td>eng/digital-marketing</td>\n",
       "      <td>performancemax_digitalmarkt_ru_DE</td>\n",
       "      <td>_{region_name}_</td>\n",
       "      <td>NaN</td>\n",
       "      <td>Google Ads</td>\n",
       "      <td>NaN</td>\n",
       "      <td>NaN</td>\n",
       "      <td>NaN</td>\n",
       "      <td>2023-07-12 19:21:00</td>\n",
       "      <td>&lt;NA&gt;</td>\n",
       "      <td>&lt;NA&gt;</td>\n",
       "      <td>0</td>\n",
       "      <td>0</td>\n",
       "      <td>5805028000001552025</td>\n",
       "      <td>NaN</td>\n",
       "      <td>NaN</td>\n",
       "      <td>&lt;NA&gt;</td>\n",
       "    </tr>\n",
       "  </tbody>\n",
       "</table>\n",
       "</div>"
      ],
      "text/plain": [
       "                        Id Deal Owner Name Closing Date            Quality  \\\n",
       "21549  5805028000001355009       Bob Brown   2023-07-08  E - Non Qualified   \n",
       "21548  5805028000001369097       Bob Brown   2023-07-08  E - Non Qualified   \n",
       "21547  5805028000001375082    Kevin Parker   2023-07-08  E - Non Qualified   \n",
       "21546  5805028000001405002    Kevin Parker   2023-07-08  E - Non Qualified   \n",
       "21487  5805028000001575064       Bob Brown   2023-07-12  E - Non Qualified   \n",
       "21486  5805028000001595050       Bob Brown   2023-07-12  E - Non Qualified   \n",
       "\n",
       "      Stage Lost Reason                   Page  \\\n",
       "21549  Lost   Duplicate  eng/digital-marketing   \n",
       "21548  Lost   Duplicate  eng/digital-marketing   \n",
       "21547  Lost   Duplicate  eng/digital-marketing   \n",
       "21546  Lost   Duplicate  eng/digital-marketing   \n",
       "21487  Lost   Duplicate  eng/digital-marketing   \n",
       "21486  Lost   Duplicate  eng/digital-marketing   \n",
       "\n",
       "                                Campaign          Content Term      Source  \\\n",
       "21549  performancemax_digitalmarkt_ru_DE  _{region_name}_  NaN  Google Ads   \n",
       "21548  performancemax_digitalmarkt_ru_DE  _{region_name}_  NaN  Google Ads   \n",
       "21547  performancemax_digitalmarkt_ru_DE  _{region_name}_  NaN  Google Ads   \n",
       "21546  performancemax_digitalmarkt_ru_DE  _{region_name}_  NaN  Google Ads   \n",
       "21487  performancemax_digitalmarkt_ru_DE  _{region_name}_  NaN  Google Ads   \n",
       "21486  performancemax_digitalmarkt_ru_DE  _{region_name}_  NaN  Google Ads   \n",
       "\n",
       "      Payment Type Product Education Type        Created Time  \\\n",
       "21549          NaN     NaN            NaN 2023-07-08 11:39:00   \n",
       "21548          NaN     NaN            NaN 2023-07-08 11:39:00   \n",
       "21547          NaN     NaN            NaN 2023-07-08 13:29:00   \n",
       "21546          NaN     NaN            NaN 2023-07-08 13:29:00   \n",
       "21487          NaN     NaN            NaN 2023-07-12 19:21:00   \n",
       "21486          NaN     NaN            NaN 2023-07-12 19:21:00   \n",
       "\n",
       "       Course duration  Months of study  Initial Amount Paid  \\\n",
       "21549             <NA>             <NA>                    0   \n",
       "21548             <NA>             <NA>                    0   \n",
       "21547             <NA>             <NA>                    0   \n",
       "21546             <NA>             <NA>                    0   \n",
       "21487             <NA>             <NA>                    0   \n",
       "21486             <NA>             <NA>                    0   \n",
       "\n",
       "       Offer Total Amount         Contact Name City Level of Deutsch  \\\n",
       "21549                   0  5805028000001347003  NaN              NaN   \n",
       "21548                   0  5805028000001347003  NaN              NaN   \n",
       "21547                   0  5805028000001347038  NaN              NaN   \n",
       "21546                   0  5805028000001347038  NaN              NaN   \n",
       "21487                   0  5805028000001552025  NaN              NaN   \n",
       "21486                   0  5805028000001552025  NaN              NaN   \n",
       "\n",
       "       SLA Minutes  \n",
       "21549         <NA>  \n",
       "21548         <NA>  \n",
       "21547         <NA>  \n",
       "21546         <NA>  \n",
       "21487         <NA>  \n",
       "21486         <NA>  "
      ]
     },
     "execution_count": 55,
     "metadata": {},
     "output_type": "execute_result"
    }
   ],
   "source": [
    "deals[(deals[cols_deals].duplicated(keep=False))].head(6)"
   ]
  },
  {
   "cell_type": "markdown",
   "id": "ea3233ee",
   "metadata": {},
   "source": [
    "Удалим дубликаты"
   ]
  },
  {
   "cell_type": "code",
   "execution_count": 56,
   "id": "d01661c4",
   "metadata": {},
   "outputs": [],
   "source": [
    "deals.drop_duplicates(cols_deals, inplace=True)"
   ]
  },
  {
   "cell_type": "markdown",
   "id": "1f8a5c37",
   "metadata": {},
   "source": [
    "Удалим строки с тестовыми значениями"
   ]
  },
  {
   "cell_type": "code",
   "execution_count": 57,
   "id": "de26f738",
   "metadata": {},
   "outputs": [],
   "source": [
    "deals = deals[deals['Page'] != '/test']"
   ]
  },
  {
   "cell_type": "code",
   "execution_count": null,
   "id": "bbc496eb",
   "metadata": {},
   "outputs": [],
   "source": []
  },
  {
   "cell_type": "markdown",
   "id": "57fcd6fb",
   "metadata": {},
   "source": [
    "### Удаление неактуальных столбцов\n",
    "\n",
    "Оставим только колонки, которые могут пригодится для дальнейшего анализа и решения задач."
   ]
  },
  {
   "cell_type": "markdown",
   "id": "7bed6a4f",
   "metadata": {},
   "source": [
    "calls"
   ]
  },
  {
   "cell_type": "code",
   "execution_count": 58,
   "id": "c256bcde",
   "metadata": {},
   "outputs": [],
   "source": [
    "cols_calls_new = ['Call Start Time', 'Call Owner Name', 'CONTACTID', 'Call Duration (in seconds)']\n",
    "calls_new = calls[cols_calls_new]"
   ]
  },
  {
   "cell_type": "markdown",
   "id": "4a20344a",
   "metadata": {},
   "source": [
    "Оставим только звонки не меньше 20 секунд"
   ]
  },
  {
   "cell_type": "code",
   "execution_count": 59,
   "id": "891229aa",
   "metadata": {},
   "outputs": [],
   "source": [
    "calls_new = calls_new[calls_new['Call Duration (in seconds)']>=20].reset_index(drop=True)"
   ]
  },
  {
   "cell_type": "code",
   "execution_count": 60,
   "id": "73fb7a91",
   "metadata": {},
   "outputs": [
    {
     "name": "stdout",
     "output_type": "stream",
     "text": [
      "(37239, 4)\n"
     ]
    },
    {
     "data": {
      "text/html": [
       "<div>\n",
       "<style scoped>\n",
       "    .dataframe tbody tr th:only-of-type {\n",
       "        vertical-align: middle;\n",
       "    }\n",
       "\n",
       "    .dataframe tbody tr th {\n",
       "        vertical-align: top;\n",
       "    }\n",
       "\n",
       "    .dataframe thead th {\n",
       "        text-align: right;\n",
       "    }\n",
       "</style>\n",
       "<table border=\"1\" class=\"dataframe\">\n",
       "  <thead>\n",
       "    <tr style=\"text-align: right;\">\n",
       "      <th></th>\n",
       "      <th>Call Start Time</th>\n",
       "      <th>Call Owner Name</th>\n",
       "      <th>CONTACTID</th>\n",
       "      <th>Call Duration (in seconds)</th>\n",
       "    </tr>\n",
       "  </thead>\n",
       "  <tbody>\n",
       "    <tr>\n",
       "      <th>0</th>\n",
       "      <td>2023-06-30 08:43:00</td>\n",
       "      <td>John Doe</td>\n",
       "      <td>&lt;NA&gt;</td>\n",
       "      <td>171</td>\n",
       "    </tr>\n",
       "    <tr>\n",
       "      <th>1</th>\n",
       "      <td>2023-06-30 08:46:00</td>\n",
       "      <td>John Doe</td>\n",
       "      <td>&lt;NA&gt;</td>\n",
       "      <td>28</td>\n",
       "    </tr>\n",
       "    <tr>\n",
       "      <th>2</th>\n",
       "      <td>2023-06-30 08:59:00</td>\n",
       "      <td>John Doe</td>\n",
       "      <td>&lt;NA&gt;</td>\n",
       "      <td>24</td>\n",
       "    </tr>\n",
       "    <tr>\n",
       "      <th>3</th>\n",
       "      <td>2023-07-03 13:08:00</td>\n",
       "      <td>Jane Smith</td>\n",
       "      <td>&lt;NA&gt;</td>\n",
       "      <td>40</td>\n",
       "    </tr>\n",
       "    <tr>\n",
       "      <th>4</th>\n",
       "      <td>2023-07-04 15:35:00</td>\n",
       "      <td>Jane Smith</td>\n",
       "      <td>5805028000000645014</td>\n",
       "      <td>20</td>\n",
       "    </tr>\n",
       "  </tbody>\n",
       "</table>\n",
       "</div>"
      ],
      "text/plain": [
       "      Call Start Time Call Owner Name            CONTACTID  \\\n",
       "0 2023-06-30 08:43:00        John Doe                 <NA>   \n",
       "1 2023-06-30 08:46:00        John Doe                 <NA>   \n",
       "2 2023-06-30 08:59:00        John Doe                 <NA>   \n",
       "3 2023-07-03 13:08:00      Jane Smith                 <NA>   \n",
       "4 2023-07-04 15:35:00      Jane Smith  5805028000000645014   \n",
       "\n",
       "   Call Duration (in seconds)  \n",
       "0                         171  \n",
       "1                          28  \n",
       "2                          24  \n",
       "3                          40  \n",
       "4                          20  "
      ]
     },
     "execution_count": 60,
     "metadata": {},
     "output_type": "execute_result"
    }
   ],
   "source": [
    "print(calls_new.shape)\n",
    "calls_new.head()"
   ]
  },
  {
   "cell_type": "code",
   "execution_count": null,
   "id": "30ee069c",
   "metadata": {},
   "outputs": [],
   "source": []
  },
  {
   "cell_type": "markdown",
   "id": "b8e76b8c",
   "metadata": {},
   "source": [
    "Для spend пока оставим все колонки"
   ]
  },
  {
   "cell_type": "markdown",
   "id": "df1f3da9",
   "metadata": {},
   "source": [
    "deals"
   ]
  },
  {
   "cell_type": "code",
   "execution_count": 61,
   "id": "950869e0",
   "metadata": {},
   "outputs": [],
   "source": [
    "cols_deals_new = list(deals.columns)\n",
    "cols_deals_remove = ['Quality', 'Page', 'Level of Deutsch', 'Term']\n",
    "\n",
    "cols_deals_new = [col for col in cols_deals_new if col not in cols_deals_remove]\n",
    "\n",
    "deals_new = deals[cols_deals_new].reset_index(drop=True)\n"
   ]
  },
  {
   "cell_type": "code",
   "execution_count": 62,
   "id": "bdf04a22",
   "metadata": {},
   "outputs": [
    {
     "name": "stdout",
     "output_type": "stream",
     "text": [
      "(21542, 19)\n"
     ]
    },
    {
     "data": {
      "text/html": [
       "<div>\n",
       "<style scoped>\n",
       "    .dataframe tbody tr th:only-of-type {\n",
       "        vertical-align: middle;\n",
       "    }\n",
       "\n",
       "    .dataframe tbody tr th {\n",
       "        vertical-align: top;\n",
       "    }\n",
       "\n",
       "    .dataframe thead th {\n",
       "        text-align: right;\n",
       "    }\n",
       "</style>\n",
       "<table border=\"1\" class=\"dataframe\">\n",
       "  <thead>\n",
       "    <tr style=\"text-align: right;\">\n",
       "      <th></th>\n",
       "      <th>Id</th>\n",
       "      <th>Deal Owner Name</th>\n",
       "      <th>Closing Date</th>\n",
       "      <th>Stage</th>\n",
       "      <th>Lost Reason</th>\n",
       "      <th>Campaign</th>\n",
       "      <th>Content</th>\n",
       "      <th>Source</th>\n",
       "      <th>Payment Type</th>\n",
       "      <th>Product</th>\n",
       "      <th>Education Type</th>\n",
       "      <th>Created Time</th>\n",
       "      <th>Course duration</th>\n",
       "      <th>Months of study</th>\n",
       "      <th>Initial Amount Paid</th>\n",
       "      <th>Offer Total Amount</th>\n",
       "      <th>Contact Name</th>\n",
       "      <th>City</th>\n",
       "      <th>SLA Minutes</th>\n",
       "    </tr>\n",
       "  </thead>\n",
       "  <tbody>\n",
       "    <tr>\n",
       "      <th>0</th>\n",
       "      <td>5805028000000922001</td>\n",
       "      <td>Bob Brown</td>\n",
       "      <td>2023-07-03</td>\n",
       "      <td>Lost</td>\n",
       "      <td>Refugee</td>\n",
       "      <td>NaN</td>\n",
       "      <td>NaN</td>\n",
       "      <td>Organic</td>\n",
       "      <td>NaN</td>\n",
       "      <td>NaN</td>\n",
       "      <td>NaN</td>\n",
       "      <td>2023-07-03 17:03:00</td>\n",
       "      <td>&lt;NA&gt;</td>\n",
       "      <td>&lt;NA&gt;</td>\n",
       "      <td>0</td>\n",
       "      <td>0</td>\n",
       "      <td>5805028000001009140</td>\n",
       "      <td>NaN</td>\n",
       "      <td>7127</td>\n",
       "    </tr>\n",
       "    <tr>\n",
       "      <th>1</th>\n",
       "      <td>5805028000000927004</td>\n",
       "      <td>Bob Brown</td>\n",
       "      <td>2023-07-09</td>\n",
       "      <td>Lost</td>\n",
       "      <td>Does not speak English</td>\n",
       "      <td>03.07.23women</td>\n",
       "      <td>b3</td>\n",
       "      <td>Facebook Ads</td>\n",
       "      <td>NaN</td>\n",
       "      <td>NaN</td>\n",
       "      <td>NaN</td>\n",
       "      <td>2023-07-03 20:17:00</td>\n",
       "      <td>&lt;NA&gt;</td>\n",
       "      <td>&lt;NA&gt;</td>\n",
       "      <td>&lt;NA&gt;</td>\n",
       "      <td>&lt;NA&gt;</td>\n",
       "      <td>5805028000000961001</td>\n",
       "      <td>NaN</td>\n",
       "      <td>&lt;NA&gt;</td>\n",
       "    </tr>\n",
       "    <tr>\n",
       "      <th>2</th>\n",
       "      <td>5805028000000945016</td>\n",
       "      <td>Jane Smith</td>\n",
       "      <td>2023-08-29</td>\n",
       "      <td>Lost</td>\n",
       "      <td>Changed Decision</td>\n",
       "      <td>02.07.23wide_DE</td>\n",
       "      <td>b3</td>\n",
       "      <td>Facebook Ads</td>\n",
       "      <td>NaN</td>\n",
       "      <td>NaN</td>\n",
       "      <td>NaN</td>\n",
       "      <td>2023-07-03 20:39:00</td>\n",
       "      <td>&lt;NA&gt;</td>\n",
       "      <td>&lt;NA&gt;</td>\n",
       "      <td>&lt;NA&gt;</td>\n",
       "      <td>&lt;NA&gt;</td>\n",
       "      <td>5805028000000968001</td>\n",
       "      <td>NaN</td>\n",
       "      <td>81781</td>\n",
       "    </tr>\n",
       "    <tr>\n",
       "      <th>3</th>\n",
       "      <td>5805028000000948010</td>\n",
       "      <td>Jane Smith</td>\n",
       "      <td>2023-08-29</td>\n",
       "      <td>Lost</td>\n",
       "      <td>needs time to think</td>\n",
       "      <td>03.07.23women</td>\n",
       "      <td>b3</td>\n",
       "      <td>Facebook Ads</td>\n",
       "      <td>NaN</td>\n",
       "      <td>NaN</td>\n",
       "      <td>NaN</td>\n",
       "      <td>2023-07-04 07:10:00</td>\n",
       "      <td>&lt;NA&gt;</td>\n",
       "      <td>&lt;NA&gt;</td>\n",
       "      <td>&lt;NA&gt;</td>\n",
       "      <td>&lt;NA&gt;</td>\n",
       "      <td>5805028000000979006</td>\n",
       "      <td>NaN</td>\n",
       "      <td>&lt;NA&gt;</td>\n",
       "    </tr>\n",
       "    <tr>\n",
       "      <th>4</th>\n",
       "      <td>5805028000000970006</td>\n",
       "      <td>Jane Smith</td>\n",
       "      <td>2023-07-04</td>\n",
       "      <td>Lost</td>\n",
       "      <td>Duplicate</td>\n",
       "      <td>03.07.23women</td>\n",
       "      <td>b3</td>\n",
       "      <td>Facebook Ads</td>\n",
       "      <td>NaN</td>\n",
       "      <td>NaN</td>\n",
       "      <td>NaN</td>\n",
       "      <td>2023-07-04 07:10:00</td>\n",
       "      <td>&lt;NA&gt;</td>\n",
       "      <td>&lt;NA&gt;</td>\n",
       "      <td>&lt;NA&gt;</td>\n",
       "      <td>&lt;NA&gt;</td>\n",
       "      <td>5805028000000979006</td>\n",
       "      <td>NaN</td>\n",
       "      <td>&lt;NA&gt;</td>\n",
       "    </tr>\n",
       "  </tbody>\n",
       "</table>\n",
       "</div>"
      ],
      "text/plain": [
       "                    Id Deal Owner Name Closing Date Stage  \\\n",
       "0  5805028000000922001       Bob Brown   2023-07-03  Lost   \n",
       "1  5805028000000927004       Bob Brown   2023-07-09  Lost   \n",
       "2  5805028000000945016      Jane Smith   2023-08-29  Lost   \n",
       "3  5805028000000948010      Jane Smith   2023-08-29  Lost   \n",
       "4  5805028000000970006      Jane Smith   2023-07-04  Lost   \n",
       "\n",
       "              Lost Reason         Campaign Content        Source Payment Type  \\\n",
       "0                 Refugee              NaN     NaN       Organic          NaN   \n",
       "1  Does not speak English    03.07.23women      b3  Facebook Ads          NaN   \n",
       "2        Changed Decision  02.07.23wide_DE      b3  Facebook Ads          NaN   \n",
       "3     needs time to think    03.07.23women      b3  Facebook Ads          NaN   \n",
       "4               Duplicate    03.07.23women      b3  Facebook Ads          NaN   \n",
       "\n",
       "  Product Education Type        Created Time  Course duration  \\\n",
       "0     NaN            NaN 2023-07-03 17:03:00             <NA>   \n",
       "1     NaN            NaN 2023-07-03 20:17:00             <NA>   \n",
       "2     NaN            NaN 2023-07-03 20:39:00             <NA>   \n",
       "3     NaN            NaN 2023-07-04 07:10:00             <NA>   \n",
       "4     NaN            NaN 2023-07-04 07:10:00             <NA>   \n",
       "\n",
       "   Months of study  Initial Amount Paid  Offer Total Amount  \\\n",
       "0             <NA>                    0                   0   \n",
       "1             <NA>                 <NA>                <NA>   \n",
       "2             <NA>                 <NA>                <NA>   \n",
       "3             <NA>                 <NA>                <NA>   \n",
       "4             <NA>                 <NA>                <NA>   \n",
       "\n",
       "          Contact Name City  SLA Minutes  \n",
       "0  5805028000001009140  NaN         7127  \n",
       "1  5805028000000961001  NaN         <NA>  \n",
       "2  5805028000000968001  NaN        81781  \n",
       "3  5805028000000979006  NaN         <NA>  \n",
       "4  5805028000000979006  NaN         <NA>  "
      ]
     },
     "execution_count": 62,
     "metadata": {},
     "output_type": "execute_result"
    }
   ],
   "source": [
    "print(deals_new.shape)\n",
    "deals_new.head()"
   ]
  },
  {
   "cell_type": "code",
   "execution_count": null,
   "id": "bfafdadf",
   "metadata": {},
   "outputs": [],
   "source": []
  },
  {
   "cell_type": "markdown",
   "id": "e7033689",
   "metadata": {},
   "source": [
    "### Обработка отсутствующих значений"
   ]
  },
  {
   "cell_type": "markdown",
   "id": "588eac19",
   "metadata": {},
   "source": [
    "В оставшихся колонках не видно колонок, в которых можно эффективно заполнить пропущенные значение.\n",
    "\n",
    "Поэтому попытаемся скорректировать и улучшить те колонки, для которых это возможно. \n",
    "\n",
    "**Campaign in spend**"
   ]
  },
  {
   "cell_type": "markdown",
   "id": "12ace557",
   "metadata": {},
   "source": [
    "Заменим опечатки и копии для сопоставления потом двух таблиц spend + deals"
   ]
  },
  {
   "cell_type": "code",
   "execution_count": 63,
   "id": "8b0b28ae",
   "metadata": {},
   "outputs": [],
   "source": [
    "camp_replace_dict = {'20.03.24_widde_PL': '20.03.24wide_PL',\n",
    "                    '1performancemax_wide_PL':'performancemax_PL',\n",
    "                    'performancemax_eng_DE':'performancemax_DE',\n",
    "                    'performancemax_wide_AT':'performancemax_AT',\n",
    "                    'performancemax_wide_PL':'performancemax_PL',\n",
    "                    'youtube_shortsin_AT': 'youtube_shorts_AT',\n",
    "                    'shorts_PL': 'youtube_shorts_PL',\n",
    "                    '15.04.24LAL_ab__PL':'15.04.24LAL_PL'}\n",
    "spend['Campaign'] = spend['Campaign'].replace(camp_replace_dict)\n",
    "\n",
    "adgr_replace_dict = {'interest_programming – Copy': 'interest_programming',\n",
    "                    'interest_dataanalytics – Copy': 'interest_dataanalytics',\n",
    "                    'LAL1': 'LAL',}\n",
    "spend['AdGroup'] = spend['AdGroup'].replace(adgr_replace_dict)\n"
   ]
  },
  {
   "cell_type": "code",
   "execution_count": null,
   "id": "cab37a80",
   "metadata": {},
   "outputs": [],
   "source": []
  },
  {
   "cell_type": "markdown",
   "id": "c1143d63",
   "metadata": {},
   "source": [
    "Оставляем только нужные для дальнейшего анализа колонки"
   ]
  },
  {
   "cell_type": "code",
   "execution_count": 64,
   "id": "bb4299ec",
   "metadata": {},
   "outputs": [],
   "source": [
    "cols_spend_new = ['Date', 'Source', 'Campaign', 'Impressions', 'Spend', 'Clicks', 'AdGroup', 'Ad',]\n",
    "\n",
    "spend_new = spend[cols_spend_new]\n"
   ]
  },
  {
   "cell_type": "code",
   "execution_count": 65,
   "id": "58106061",
   "metadata": {},
   "outputs": [
    {
     "data": {
      "text/html": [
       "<div>\n",
       "<style scoped>\n",
       "    .dataframe tbody tr th:only-of-type {\n",
       "        vertical-align: middle;\n",
       "    }\n",
       "\n",
       "    .dataframe tbody tr th {\n",
       "        vertical-align: top;\n",
       "    }\n",
       "\n",
       "    .dataframe thead th {\n",
       "        text-align: right;\n",
       "    }\n",
       "</style>\n",
       "<table border=\"1\" class=\"dataframe\">\n",
       "  <thead>\n",
       "    <tr style=\"text-align: right;\">\n",
       "      <th></th>\n",
       "      <th>Date</th>\n",
       "      <th>Source</th>\n",
       "      <th>Campaign</th>\n",
       "      <th>Impressions</th>\n",
       "      <th>Spend</th>\n",
       "      <th>Clicks</th>\n",
       "      <th>AdGroup</th>\n",
       "      <th>Ad</th>\n",
       "    </tr>\n",
       "  </thead>\n",
       "  <tbody>\n",
       "    <tr>\n",
       "      <th>7</th>\n",
       "      <td>2023-07-03</td>\n",
       "      <td>Bloggers</td>\n",
       "      <td>NaN</td>\n",
       "      <td>0</td>\n",
       "      <td>0.00</td>\n",
       "      <td>0</td>\n",
       "      <td>NaN</td>\n",
       "      <td>NaN</td>\n",
       "    </tr>\n",
       "    <tr>\n",
       "      <th>4</th>\n",
       "      <td>2023-07-03</td>\n",
       "      <td>CRM</td>\n",
       "      <td>NaN</td>\n",
       "      <td>0</td>\n",
       "      <td>0.00</td>\n",
       "      <td>0</td>\n",
       "      <td>NaN</td>\n",
       "      <td>NaN</td>\n",
       "    </tr>\n",
       "    <tr>\n",
       "      <th>2</th>\n",
       "      <td>2023-07-03</td>\n",
       "      <td>Facebook Ads</td>\n",
       "      <td>NaN</td>\n",
       "      <td>0</td>\n",
       "      <td>0.00</td>\n",
       "      <td>0</td>\n",
       "      <td>NaN</td>\n",
       "      <td>NaN</td>\n",
       "    </tr>\n",
       "    <tr>\n",
       "      <th>5</th>\n",
       "      <td>2023-07-03</td>\n",
       "      <td>Facebook Ads</td>\n",
       "      <td>03.07.23women</td>\n",
       "      <td>187</td>\n",
       "      <td>3.30</td>\n",
       "      <td>6</td>\n",
       "      <td>women</td>\n",
       "      <td>b3</td>\n",
       "    </tr>\n",
       "    <tr>\n",
       "      <th>6</th>\n",
       "      <td>2023-07-03</td>\n",
       "      <td>Facebook Ads</td>\n",
       "      <td>03.07.23women</td>\n",
       "      <td>4</td>\n",
       "      <td>0.02</td>\n",
       "      <td>1</td>\n",
       "      <td>women</td>\n",
       "      <td>b1</td>\n",
       "    </tr>\n",
       "  </tbody>\n",
       "</table>\n",
       "</div>"
      ],
      "text/plain": [
       "        Date        Source       Campaign  Impressions  Spend  Clicks AdGroup  \\\n",
       "7 2023-07-03      Bloggers            NaN            0   0.00       0     NaN   \n",
       "4 2023-07-03           CRM            NaN            0   0.00       0     NaN   \n",
       "2 2023-07-03  Facebook Ads            NaN            0   0.00       0     NaN   \n",
       "5 2023-07-03  Facebook Ads  03.07.23women          187   3.30       6   women   \n",
       "6 2023-07-03  Facebook Ads  03.07.23women            4   0.02       1   women   \n",
       "\n",
       "    Ad  \n",
       "7  NaN  \n",
       "4  NaN  \n",
       "2  NaN  \n",
       "5   b3  \n",
       "6   b1  "
      ]
     },
     "execution_count": 65,
     "metadata": {},
     "output_type": "execute_result"
    }
   ],
   "source": [
    "spend_new.head()"
   ]
  },
  {
   "cell_type": "code",
   "execution_count": null,
   "id": "b8936645",
   "metadata": {},
   "outputs": [],
   "source": []
  },
  {
   "cell_type": "markdown",
   "id": "e71a519f",
   "metadata": {},
   "source": [
    "**Campaign in deals**\n",
    "\n",
    "Заменим опечатки или копии"
   ]
  },
  {
   "cell_type": "code",
   "execution_count": 66,
   "id": "c509531b",
   "metadata": {},
   "outputs": [],
   "source": [
    "camp_replace_dict = {\n",
    "    '20.03.24_widde_PL': '20.03.24wide_PL',\n",
    "    'youtube_shortsin_AT': 'youtube_shorts_AT',\n",
    "    '2005_Lost_DE': 'Lost_DE',\n",
    "    '15.04.24LAL_ab__PL': '15.04.24LAL_PL',\n",
    "    'shorts_PL': 'youtube_shorts_PL',\n",
    "    'performancemax_eng_DE': 'performancemax_DE',\n",
    "    'performancemax_digitalmarkt_ru_DE': 'performancemax_DE',\n",
    "    '1performancemax_wide_PL': 'performancemax_PL',\n",
    "    'performancemax_wide_AT': 'performancemax_AT',    \n",
    "}\n",
    "deals_new['Campaign'] = deals_new['Campaign'].replace(camp_replace_dict)\n"
   ]
  },
  {
   "cell_type": "code",
   "execution_count": 67,
   "id": "1109e695",
   "metadata": {},
   "outputs": [],
   "source": [
    "deals_new = deals_new.drop(columns=[\n",
    "    'Content', # не будет использоваться\n",
    "])"
   ]
  },
  {
   "cell_type": "code",
   "execution_count": 68,
   "id": "7e3c1a27",
   "metadata": {},
   "outputs": [
    {
     "data": {
      "text/html": [
       "<div>\n",
       "<style scoped>\n",
       "    .dataframe tbody tr th:only-of-type {\n",
       "        vertical-align: middle;\n",
       "    }\n",
       "\n",
       "    .dataframe tbody tr th {\n",
       "        vertical-align: top;\n",
       "    }\n",
       "\n",
       "    .dataframe thead th {\n",
       "        text-align: right;\n",
       "    }\n",
       "</style>\n",
       "<table border=\"1\" class=\"dataframe\">\n",
       "  <thead>\n",
       "    <tr style=\"text-align: right;\">\n",
       "      <th></th>\n",
       "      <th>Id</th>\n",
       "      <th>Deal Owner Name</th>\n",
       "      <th>Closing Date</th>\n",
       "      <th>Stage</th>\n",
       "      <th>Lost Reason</th>\n",
       "      <th>Campaign</th>\n",
       "      <th>Source</th>\n",
       "      <th>Payment Type</th>\n",
       "      <th>Product</th>\n",
       "      <th>Education Type</th>\n",
       "      <th>Created Time</th>\n",
       "      <th>Course duration</th>\n",
       "      <th>Months of study</th>\n",
       "      <th>Initial Amount Paid</th>\n",
       "      <th>Offer Total Amount</th>\n",
       "      <th>Contact Name</th>\n",
       "      <th>City</th>\n",
       "      <th>SLA Minutes</th>\n",
       "    </tr>\n",
       "  </thead>\n",
       "  <tbody>\n",
       "    <tr>\n",
       "      <th>0</th>\n",
       "      <td>5805028000000922001</td>\n",
       "      <td>Bob Brown</td>\n",
       "      <td>2023-07-03</td>\n",
       "      <td>Lost</td>\n",
       "      <td>Refugee</td>\n",
       "      <td>NaN</td>\n",
       "      <td>Organic</td>\n",
       "      <td>NaN</td>\n",
       "      <td>NaN</td>\n",
       "      <td>NaN</td>\n",
       "      <td>2023-07-03 17:03:00</td>\n",
       "      <td>&lt;NA&gt;</td>\n",
       "      <td>&lt;NA&gt;</td>\n",
       "      <td>0</td>\n",
       "      <td>0</td>\n",
       "      <td>5805028000001009140</td>\n",
       "      <td>NaN</td>\n",
       "      <td>7127</td>\n",
       "    </tr>\n",
       "    <tr>\n",
       "      <th>1</th>\n",
       "      <td>5805028000000927004</td>\n",
       "      <td>Bob Brown</td>\n",
       "      <td>2023-07-09</td>\n",
       "      <td>Lost</td>\n",
       "      <td>Does not speak English</td>\n",
       "      <td>03.07.23women</td>\n",
       "      <td>Facebook Ads</td>\n",
       "      <td>NaN</td>\n",
       "      <td>NaN</td>\n",
       "      <td>NaN</td>\n",
       "      <td>2023-07-03 20:17:00</td>\n",
       "      <td>&lt;NA&gt;</td>\n",
       "      <td>&lt;NA&gt;</td>\n",
       "      <td>&lt;NA&gt;</td>\n",
       "      <td>&lt;NA&gt;</td>\n",
       "      <td>5805028000000961001</td>\n",
       "      <td>NaN</td>\n",
       "      <td>&lt;NA&gt;</td>\n",
       "    </tr>\n",
       "    <tr>\n",
       "      <th>2</th>\n",
       "      <td>5805028000000945016</td>\n",
       "      <td>Jane Smith</td>\n",
       "      <td>2023-08-29</td>\n",
       "      <td>Lost</td>\n",
       "      <td>Changed Decision</td>\n",
       "      <td>02.07.23wide_DE</td>\n",
       "      <td>Facebook Ads</td>\n",
       "      <td>NaN</td>\n",
       "      <td>NaN</td>\n",
       "      <td>NaN</td>\n",
       "      <td>2023-07-03 20:39:00</td>\n",
       "      <td>&lt;NA&gt;</td>\n",
       "      <td>&lt;NA&gt;</td>\n",
       "      <td>&lt;NA&gt;</td>\n",
       "      <td>&lt;NA&gt;</td>\n",
       "      <td>5805028000000968001</td>\n",
       "      <td>NaN</td>\n",
       "      <td>81781</td>\n",
       "    </tr>\n",
       "    <tr>\n",
       "      <th>3</th>\n",
       "      <td>5805028000000948010</td>\n",
       "      <td>Jane Smith</td>\n",
       "      <td>2023-08-29</td>\n",
       "      <td>Lost</td>\n",
       "      <td>needs time to think</td>\n",
       "      <td>03.07.23women</td>\n",
       "      <td>Facebook Ads</td>\n",
       "      <td>NaN</td>\n",
       "      <td>NaN</td>\n",
       "      <td>NaN</td>\n",
       "      <td>2023-07-04 07:10:00</td>\n",
       "      <td>&lt;NA&gt;</td>\n",
       "      <td>&lt;NA&gt;</td>\n",
       "      <td>&lt;NA&gt;</td>\n",
       "      <td>&lt;NA&gt;</td>\n",
       "      <td>5805028000000979006</td>\n",
       "      <td>NaN</td>\n",
       "      <td>&lt;NA&gt;</td>\n",
       "    </tr>\n",
       "    <tr>\n",
       "      <th>4</th>\n",
       "      <td>5805028000000970006</td>\n",
       "      <td>Jane Smith</td>\n",
       "      <td>2023-07-04</td>\n",
       "      <td>Lost</td>\n",
       "      <td>Duplicate</td>\n",
       "      <td>03.07.23women</td>\n",
       "      <td>Facebook Ads</td>\n",
       "      <td>NaN</td>\n",
       "      <td>NaN</td>\n",
       "      <td>NaN</td>\n",
       "      <td>2023-07-04 07:10:00</td>\n",
       "      <td>&lt;NA&gt;</td>\n",
       "      <td>&lt;NA&gt;</td>\n",
       "      <td>&lt;NA&gt;</td>\n",
       "      <td>&lt;NA&gt;</td>\n",
       "      <td>5805028000000979006</td>\n",
       "      <td>NaN</td>\n",
       "      <td>&lt;NA&gt;</td>\n",
       "    </tr>\n",
       "  </tbody>\n",
       "</table>\n",
       "</div>"
      ],
      "text/plain": [
       "                    Id Deal Owner Name Closing Date Stage  \\\n",
       "0  5805028000000922001       Bob Brown   2023-07-03  Lost   \n",
       "1  5805028000000927004       Bob Brown   2023-07-09  Lost   \n",
       "2  5805028000000945016      Jane Smith   2023-08-29  Lost   \n",
       "3  5805028000000948010      Jane Smith   2023-08-29  Lost   \n",
       "4  5805028000000970006      Jane Smith   2023-07-04  Lost   \n",
       "\n",
       "              Lost Reason         Campaign        Source Payment Type Product  \\\n",
       "0                 Refugee              NaN       Organic          NaN     NaN   \n",
       "1  Does not speak English    03.07.23women  Facebook Ads          NaN     NaN   \n",
       "2        Changed Decision  02.07.23wide_DE  Facebook Ads          NaN     NaN   \n",
       "3     needs time to think    03.07.23women  Facebook Ads          NaN     NaN   \n",
       "4               Duplicate    03.07.23women  Facebook Ads          NaN     NaN   \n",
       "\n",
       "  Education Type        Created Time  Course duration  Months of study  \\\n",
       "0            NaN 2023-07-03 17:03:00             <NA>             <NA>   \n",
       "1            NaN 2023-07-03 20:17:00             <NA>             <NA>   \n",
       "2            NaN 2023-07-03 20:39:00             <NA>             <NA>   \n",
       "3            NaN 2023-07-04 07:10:00             <NA>             <NA>   \n",
       "4            NaN 2023-07-04 07:10:00             <NA>             <NA>   \n",
       "\n",
       "   Initial Amount Paid  Offer Total Amount         Contact Name City  \\\n",
       "0                    0                   0  5805028000001009140  NaN   \n",
       "1                 <NA>                <NA>  5805028000000961001  NaN   \n",
       "2                 <NA>                <NA>  5805028000000968001  NaN   \n",
       "3                 <NA>                <NA>  5805028000000979006  NaN   \n",
       "4                 <NA>                <NA>  5805028000000979006  NaN   \n",
       "\n",
       "   SLA Minutes  \n",
       "0         7127  \n",
       "1         <NA>  \n",
       "2        81781  \n",
       "3         <NA>  \n",
       "4         <NA>  "
      ]
     },
     "execution_count": 68,
     "metadata": {},
     "output_type": "execute_result"
    }
   ],
   "source": [
    "deals_new.head()"
   ]
  },
  {
   "cell_type": "code",
   "execution_count": 69,
   "id": "b3d9e436",
   "metadata": {},
   "outputs": [
    {
     "name": "stdout",
     "output_type": "stream",
     "text": [
      "<class 'pandas.core.frame.DataFrame'>\n",
      "RangeIndex: 21542 entries, 0 to 21541\n",
      "Data columns (total 18 columns):\n",
      " #   Column               Non-Null Count  Dtype         \n",
      "---  ------               --------------  -----         \n",
      " 0   Id                   21542 non-null  Int64         \n",
      " 1   Deal Owner Name      21513 non-null  object        \n",
      " 2   Closing Date         14613 non-null  datetime64[ns]\n",
      " 3   Stage                21542 non-null  object        \n",
      " 4   Lost Reason          16084 non-null  object        \n",
      " 5   Campaign             16056 non-null  object        \n",
      " 6   Source               21542 non-null  object        \n",
      " 7   Payment Type         495 non-null    object        \n",
      " 8   Product              3577 non-null   object        \n",
      " 9   Education Type       3285 non-null   object        \n",
      " 10  Created Time         21542 non-null  datetime64[ns]\n",
      " 11  Course duration      3572 non-null   Int16         \n",
      " 12  Months of study      837 non-null    Int16         \n",
      " 13  Initial Amount Paid  4145 non-null   Int64         \n",
      " 14  Offer Total Amount   4164 non-null   Int64         \n",
      " 15  Contact Name         21481 non-null  Int64         \n",
      " 16  City                 2499 non-null   object        \n",
      " 17  SLA Minutes          15502 non-null  Int64         \n",
      "dtypes: Int16(2), Int64(5), datetime64[ns](2), object(9)\n",
      "memory usage: 2.9+ MB\n"
     ]
    }
   ],
   "source": [
    "deals_new.info()"
   ]
  },
  {
   "cell_type": "markdown",
   "id": "450e0263",
   "metadata": {},
   "source": [
    "В других блокнотах заметили, что по курсу \"Web Developer\" и \"Evening\" всего одна запись. Возможно это ошибочная запись, поэтому удалим эту строку"
   ]
  },
  {
   "cell_type": "code",
   "execution_count": 70,
   "id": "d9eb3cd0",
   "metadata": {},
   "outputs": [
    {
     "data": {
      "text/html": [
       "<div>\n",
       "<style scoped>\n",
       "    .dataframe tbody tr th:only-of-type {\n",
       "        vertical-align: middle;\n",
       "    }\n",
       "\n",
       "    .dataframe tbody tr th {\n",
       "        vertical-align: top;\n",
       "    }\n",
       "\n",
       "    .dataframe thead th {\n",
       "        text-align: right;\n",
       "    }\n",
       "</style>\n",
       "<table border=\"1\" class=\"dataframe\">\n",
       "  <thead>\n",
       "    <tr style=\"text-align: right;\">\n",
       "      <th></th>\n",
       "      <th>Id</th>\n",
       "      <th>Deal Owner Name</th>\n",
       "      <th>Closing Date</th>\n",
       "      <th>Stage</th>\n",
       "      <th>Lost Reason</th>\n",
       "      <th>Campaign</th>\n",
       "      <th>Source</th>\n",
       "      <th>Payment Type</th>\n",
       "      <th>Product</th>\n",
       "      <th>Education Type</th>\n",
       "      <th>Created Time</th>\n",
       "      <th>Course duration</th>\n",
       "      <th>Months of study</th>\n",
       "      <th>Initial Amount Paid</th>\n",
       "      <th>Offer Total Amount</th>\n",
       "      <th>Contact Name</th>\n",
       "      <th>City</th>\n",
       "      <th>SLA Minutes</th>\n",
       "    </tr>\n",
       "  </thead>\n",
       "  <tbody>\n",
       "    <tr>\n",
       "      <th>10793</th>\n",
       "      <td>5805028000030164109</td>\n",
       "      <td>Victor Barnes</td>\n",
       "      <td>NaT</td>\n",
       "      <td>Lost</td>\n",
       "      <td>Changed Decision</td>\n",
       "      <td>NaN</td>\n",
       "      <td>Facebook Ads</td>\n",
       "      <td>NaN</td>\n",
       "      <td>Web Developer</td>\n",
       "      <td>Evening</td>\n",
       "      <td>2024-02-05 12:37:00</td>\n",
       "      <td>6</td>\n",
       "      <td>&lt;NA&gt;</td>\n",
       "      <td>2000</td>\n",
       "      <td>2000</td>\n",
       "      <td>5805028000030143280</td>\n",
       "      <td>Nürnberg</td>\n",
       "      <td>407</td>\n",
       "    </tr>\n",
       "  </tbody>\n",
       "</table>\n",
       "</div>"
      ],
      "text/plain": [
       "                        Id Deal Owner Name Closing Date Stage  \\\n",
       "10793  5805028000030164109   Victor Barnes          NaT  Lost   \n",
       "\n",
       "            Lost Reason Campaign        Source Payment Type        Product  \\\n",
       "10793  Changed Decision      NaN  Facebook Ads          NaN  Web Developer   \n",
       "\n",
       "      Education Type        Created Time  Course duration  Months of study  \\\n",
       "10793        Evening 2024-02-05 12:37:00                6             <NA>   \n",
       "\n",
       "       Initial Amount Paid  Offer Total Amount         Contact Name      City  \\\n",
       "10793                 2000                2000  5805028000030143280  Nürnberg   \n",
       "\n",
       "       SLA Minutes  \n",
       "10793          407  "
      ]
     },
     "execution_count": 70,
     "metadata": {},
     "output_type": "execute_result"
    }
   ],
   "source": [
    "deals_new[(deals_new['Product']=='Web Developer')&(deals_new['Education Type']=='Evening')]"
   ]
  },
  {
   "cell_type": "code",
   "execution_count": 71,
   "id": "24ba0f88",
   "metadata": {},
   "outputs": [],
   "source": [
    "deals_new = deals_new[~((deals_new['Product'] == 'Web Developer') & (deals_new['Education Type'] == 'Evening'))]"
   ]
  },
  {
   "cell_type": "markdown",
   "id": "464c57b1",
   "metadata": {},
   "source": [
    "Также удаляем строки с тестовыми значениями"
   ]
  },
  {
   "cell_type": "code",
   "execution_count": 72,
   "id": "d94c3813",
   "metadata": {},
   "outputs": [],
   "source": [
    "deals_new = deals_new[deals_new['Source'] != 'Test']\n",
    "spend_new = spend_new[spend_new['Source'] != 'Test']\n"
   ]
  },
  {
   "cell_type": "markdown",
   "id": "9fcdce0e",
   "metadata": {},
   "source": [
    "Отметим сделки которые были оплачены: `Stage`=\"Payment Done\". Также будем фильтровать суммы первого платежа от 10 евро."
   ]
  },
  {
   "cell_type": "code",
   "execution_count": 73,
   "id": "29cf6224",
   "metadata": {},
   "outputs": [],
   "source": [
    "deals_new['Initial Amount Paid'] = deals_new['Initial Amount Paid'].fillna(0)\n",
    "\n",
    "deals_new['Paid'] = deals_new.apply(lambda x: x['Stage']==\"Payment Done\" and x['Initial Amount Paid']>10, axis=1).astype(int)\n",
    "deals_new['Paid'] = deals_new['Paid'].fillna(0)"
   ]
  },
  {
   "cell_type": "code",
   "execution_count": 74,
   "id": "be2a2b77",
   "metadata": {},
   "outputs": [
    {
     "data": {
      "text/plain": [
       "833"
      ]
     },
     "execution_count": 74,
     "metadata": {},
     "output_type": "execute_result"
    }
   ],
   "source": [
    "deals_new['Paid'].sum()"
   ]
  },
  {
   "cell_type": "code",
   "execution_count": null,
   "id": "f708e689",
   "metadata": {},
   "outputs": [],
   "source": []
  },
  {
   "cell_type": "markdown",
   "id": "9d5fe92b",
   "metadata": {},
   "source": [
    "**Calls**\n",
    "\n",
    "- удалим строки с пропущенными инентификаторами клиентов, поскольку они не пригодятся для анализа"
   ]
  },
  {
   "cell_type": "code",
   "execution_count": 75,
   "id": "d3d91d85",
   "metadata": {},
   "outputs": [
    {
     "name": "stdout",
     "output_type": "stream",
     "text": [
      "<class 'pandas.core.frame.DataFrame'>\n",
      "RangeIndex: 37239 entries, 0 to 37238\n",
      "Data columns (total 4 columns):\n",
      " #   Column                      Non-Null Count  Dtype         \n",
      "---  ------                      --------------  -----         \n",
      " 0   Call Start Time             37239 non-null  datetime64[ns]\n",
      " 1   Call Owner Name             37239 non-null  object        \n",
      " 2   CONTACTID                   35891 non-null  Int64         \n",
      " 3   Call Duration (in seconds)  37239 non-null  Int64         \n",
      "dtypes: Int64(2), datetime64[ns](1), object(1)\n",
      "memory usage: 1.2+ MB\n"
     ]
    }
   ],
   "source": [
    "calls_new.info()"
   ]
  },
  {
   "cell_type": "code",
   "execution_count": 76,
   "id": "b6a9a0a1",
   "metadata": {},
   "outputs": [],
   "source": [
    "calls_new = calls_new.dropna()"
   ]
  },
  {
   "cell_type": "code",
   "execution_count": 77,
   "id": "4d4c7b55",
   "metadata": {},
   "outputs": [
    {
     "name": "stdout",
     "output_type": "stream",
     "text": [
      "<class 'pandas.core.frame.DataFrame'>\n",
      "Index: 35891 entries, 4 to 37238\n",
      "Data columns (total 4 columns):\n",
      " #   Column                      Non-Null Count  Dtype         \n",
      "---  ------                      --------------  -----         \n",
      " 0   Call Start Time             35891 non-null  datetime64[ns]\n",
      " 1   Call Owner Name             35891 non-null  object        \n",
      " 2   CONTACTID                   35891 non-null  Int64         \n",
      " 3   Call Duration (in seconds)  35891 non-null  Int64         \n",
      "dtypes: Int64(2), datetime64[ns](1), object(1)\n",
      "memory usage: 1.4+ MB\n"
     ]
    }
   ],
   "source": [
    "calls_new.info()"
   ]
  },
  {
   "cell_type": "code",
   "execution_count": null,
   "id": "8c83a512",
   "metadata": {},
   "outputs": [],
   "source": []
  },
  {
   "cell_type": "markdown",
   "id": "030ef92a",
   "metadata": {},
   "source": [
    "### Сохранение обработанных данных\n",
    "\n",
    "Таблицу Contacts не используем для дальнейшего анализа"
   ]
  },
  {
   "cell_type": "code",
   "execution_count": 78,
   "id": "241bc740",
   "metadata": {},
   "outputs": [],
   "source": [
    "calls_new.to_pickle('calls_new.pickle')\n",
    "spend_new.to_pickle('spend_new.pickle')\n",
    "deals_new.to_pickle('deals_new.pickle')\n"
   ]
  },
  {
   "cell_type": "code",
   "execution_count": null,
   "id": "a1785243",
   "metadata": {},
   "outputs": [],
   "source": []
  }
 ],
 "metadata": {
  "kernelspec": {
   "display_name": "Python 3 (ipykernel)",
   "language": "python",
   "name": "python3"
  },
  "language_info": {
   "codemirror_mode": {
    "name": "ipython",
    "version": 3
   },
   "file_extension": ".py",
   "mimetype": "text/x-python",
   "name": "python",
   "nbconvert_exporter": "python",
   "pygments_lexer": "ipython3",
   "version": "3.10.9"
  }
 },
 "nbformat": 4,
 "nbformat_minor": 5
}
